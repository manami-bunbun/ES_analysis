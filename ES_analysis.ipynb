{
  "nbformat": 4,
  "nbformat_minor": 0,
  "metadata": {
    "kernelspec": {
      "display_name": "Python 3",
      "language": "python",
      "name": "python3"
    },
    "language_info": {
      "codemirror_mode": {
        "name": "ipython",
        "version": 3
      },
      "file_extension": ".py",
      "mimetype": "text/x-python",
      "name": "python",
      "nbconvert_exporter": "python",
      "pygments_lexer": "ipython3",
      "version": "3.6.10"
    },
    "colab": {
      "name": "ES_analysis.ipynb ",
      "provenance": [],
      "collapsed_sections": [],
      "include_colab_link": true
    },
    "accelerator": "GPU"
  },
  "cells": [
    {
      "cell_type": "markdown",
      "metadata": {
        "id": "view-in-github",
        "colab_type": "text"
      },
      "source": [
        "<a href=\"https://colab.research.google.com/github/manami-bunbun/ES_analysis/blob/main/ES_analysis.ipynb\" target=\"_parent\"><img src=\"https://colab.research.google.com/assets/colab-badge.svg\" alt=\"Open In Colab\"/></a>"
      ]
    },
    {
      "cell_type": "markdown",
      "metadata": {
        "id": "TTujjY6OtLiW"
      },
      "source": [
        "# 就職活動ES\n",
        "## Mecabによる形態素分析"
      ]
    },
    {
      "cell_type": "markdown",
      "source": [
        "### インストール"
      ],
      "metadata": {
        "id": "GIB5WkEkQh3J"
      }
    },
    {
      "cell_type": "code",
      "metadata": {
        "id": "0nv0o2QEOYaj",
        "colab": {
          "base_uri": "https://localhost:8080/"
        },
        "outputId": "73cc1a48-d2d6-4812-8b65-e01404ab59f9"
      },
      "source": [
        "!apt-get -q -y install swig \n",
        "!apt-get install mecab\n",
        "!apt-get install libmecab-dev\n",
        "!apt-get install mecab-ipadic-utf8\n",
        "!pip install mecab-python3==0.996.5\n",
        "!pip install unidic-lite\n",
        "!pip install japanize-matplotlib"
      ],
      "execution_count": 1,
      "outputs": [
        {
          "output_type": "stream",
          "name": "stdout",
          "text": [
            "Reading package lists...\n",
            "Building dependency tree...\n",
            "Reading state information...\n",
            "The following additional packages will be installed:\n",
            "  swig3.0\n",
            "Suggested packages:\n",
            "  swig-doc swig-examples swig3.0-examples swig3.0-doc\n",
            "The following NEW packages will be installed:\n",
            "  swig swig3.0\n",
            "0 upgraded, 2 newly installed, 0 to remove and 39 not upgraded.\n",
            "Need to get 1,100 kB of archives.\n",
            "After this operation, 5,822 kB of additional disk space will be used.\n",
            "Get:1 http://archive.ubuntu.com/ubuntu bionic/universe amd64 swig3.0 amd64 3.0.12-1 [1,094 kB]\n",
            "Get:2 http://archive.ubuntu.com/ubuntu bionic/universe amd64 swig amd64 3.0.12-1 [6,460 B]\n",
            "Fetched 1,100 kB in 1s (1,146 kB/s)\n",
            "Selecting previously unselected package swig3.0.\n",
            "(Reading database ... 156210 files and directories currently installed.)\n",
            "Preparing to unpack .../swig3.0_3.0.12-1_amd64.deb ...\n",
            "Unpacking swig3.0 (3.0.12-1) ...\n",
            "Selecting previously unselected package swig.\n",
            "Preparing to unpack .../swig_3.0.12-1_amd64.deb ...\n",
            "Unpacking swig (3.0.12-1) ...\n",
            "Setting up swig3.0 (3.0.12-1) ...\n",
            "Setting up swig (3.0.12-1) ...\n",
            "Processing triggers for man-db (2.8.3-2ubuntu0.1) ...\n",
            "Reading package lists... Done\n",
            "Building dependency tree       \n",
            "Reading state information... Done\n",
            "The following additional packages will be installed:\n",
            "  libmecab2 mecab-jumandic mecab-jumandic-utf8 mecab-utils\n",
            "The following NEW packages will be installed:\n",
            "  libmecab2 mecab mecab-jumandic mecab-jumandic-utf8 mecab-utils\n",
            "0 upgraded, 5 newly installed, 0 to remove and 39 not upgraded.\n",
            "Need to get 16.5 MB of archives.\n",
            "After this operation, 219 MB of additional disk space will be used.\n",
            "Get:1 http://archive.ubuntu.com/ubuntu bionic/universe amd64 libmecab2 amd64 0.996-5 [257 kB]\n",
            "Get:2 http://archive.ubuntu.com/ubuntu bionic/universe amd64 mecab-utils amd64 0.996-5 [4,856 B]\n",
            "Get:3 http://archive.ubuntu.com/ubuntu bionic/universe amd64 mecab-jumandic-utf8 all 7.0-20130310-4 [16.2 MB]\n",
            "Get:4 http://archive.ubuntu.com/ubuntu bionic/universe amd64 mecab-jumandic all 7.0-20130310-4 [2,212 B]\n",
            "Get:5 http://archive.ubuntu.com/ubuntu bionic/universe amd64 mecab amd64 0.996-5 [132 kB]\n",
            "Fetched 16.5 MB in 2s (9,244 kB/s)\n",
            "Selecting previously unselected package libmecab2:amd64.\n",
            "(Reading database ... 157001 files and directories currently installed.)\n",
            "Preparing to unpack .../libmecab2_0.996-5_amd64.deb ...\n",
            "Unpacking libmecab2:amd64 (0.996-5) ...\n",
            "Selecting previously unselected package mecab-utils.\n",
            "Preparing to unpack .../mecab-utils_0.996-5_amd64.deb ...\n",
            "Unpacking mecab-utils (0.996-5) ...\n",
            "Selecting previously unselected package mecab-jumandic-utf8.\n",
            "Preparing to unpack .../mecab-jumandic-utf8_7.0-20130310-4_all.deb ...\n",
            "Unpacking mecab-jumandic-utf8 (7.0-20130310-4) ...\n",
            "Selecting previously unselected package mecab-jumandic.\n",
            "Preparing to unpack .../mecab-jumandic_7.0-20130310-4_all.deb ...\n",
            "Unpacking mecab-jumandic (7.0-20130310-4) ...\n",
            "Selecting previously unselected package mecab.\n",
            "Preparing to unpack .../mecab_0.996-5_amd64.deb ...\n",
            "Unpacking mecab (0.996-5) ...\n",
            "Setting up libmecab2:amd64 (0.996-5) ...\n",
            "Setting up mecab-utils (0.996-5) ...\n",
            "Setting up mecab-jumandic-utf8 (7.0-20130310-4) ...\n",
            "Compiling Juman dictionary for Mecab.\n",
            "reading /usr/share/mecab/dic/juman/unk.def ... 37\n",
            "emitting double-array: 100% |###########################################| \n",
            "reading /usr/share/mecab/dic/juman/Rengo.csv ... 1118\n",
            "reading /usr/share/mecab/dic/juman/Emoticon.csv ... 972\n",
            "reading /usr/share/mecab/dic/juman/Postp.csv ... 108\n",
            "reading /usr/share/mecab/dic/juman/Noun.suusi.csv ... 49\n",
            "reading /usr/share/mecab/dic/juman/Auto.csv ... 18931\n",
            "reading /usr/share/mecab/dic/juman/Demonstrative.csv ... 97\n",
            "reading /usr/share/mecab/dic/juman/Wikipedia.csv ... 167709\n",
            "reading /usr/share/mecab/dic/juman/Noun.keishiki.csv ... 8\n",
            "reading /usr/share/mecab/dic/juman/Noun.koyuu.csv ... 7964\n",
            "reading /usr/share/mecab/dic/juman/Special.csv ... 158\n",
            "reading /usr/share/mecab/dic/juman/Prefix.csv ... 90\n",
            "reading /usr/share/mecab/dic/juman/Suffix.csv ... 2128\n",
            "reading /usr/share/mecab/dic/juman/Assert.csv ... 34\n",
            "reading /usr/share/mecab/dic/juman/ContentW.csv ... 551145\n",
            "reading /usr/share/mecab/dic/juman/Noun.hukusi.csv ... 81\n",
            "reading /usr/share/mecab/dic/juman/AuxV.csv ... 593\n",
            "emitting double-array: 100% |###########################################| \n",
            "reading /usr/share/mecab/dic/juman/matrix.def ... 1876x1876\n",
            "emitting matrix      : 100% |###########################################| \n",
            "\n",
            "done!\n",
            "update-alternatives: using /var/lib/mecab/dic/juman-utf8 to provide /var/lib/mecab/dic/debian (mecab-dictionary) in auto mode\n",
            "Setting up mecab (0.996-5) ...\n",
            "Setting up mecab-jumandic (7.0-20130310-4) ...\n",
            "Processing triggers for man-db (2.8.3-2ubuntu0.1) ...\n",
            "Processing triggers for libc-bin (2.27-3ubuntu1.3) ...\n",
            "/sbin/ldconfig.real: /usr/local/lib/python3.7/dist-packages/ideep4py/lib/libmkldnn.so.0 is not a symbolic link\n",
            "\n",
            "Reading package lists... Done\n",
            "Building dependency tree       \n",
            "Reading state information... Done\n",
            "The following NEW packages will be installed:\n",
            "  libmecab-dev\n",
            "0 upgraded, 1 newly installed, 0 to remove and 39 not upgraded.\n",
            "Need to get 308 kB of archives.\n",
            "After this operation, 3,132 kB of additional disk space will be used.\n",
            "Get:1 http://archive.ubuntu.com/ubuntu bionic/universe amd64 libmecab-dev amd64 0.996-5 [308 kB]\n",
            "Fetched 308 kB in 0s (1,441 kB/s)\n",
            "Selecting previously unselected package libmecab-dev.\n",
            "(Reading database ... 157126 files and directories currently installed.)\n",
            "Preparing to unpack .../libmecab-dev_0.996-5_amd64.deb ...\n",
            "Unpacking libmecab-dev (0.996-5) ...\n",
            "Setting up libmecab-dev (0.996-5) ...\n",
            "Processing triggers for man-db (2.8.3-2ubuntu0.1) ...\n",
            "Reading package lists... Done\n",
            "Building dependency tree       \n",
            "Reading state information... Done\n",
            "The following additional packages will be installed:\n",
            "  mecab-ipadic\n",
            "The following NEW packages will be installed:\n",
            "  mecab-ipadic mecab-ipadic-utf8\n",
            "0 upgraded, 2 newly installed, 0 to remove and 39 not upgraded.\n",
            "Need to get 12.1 MB of archives.\n",
            "After this operation, 54.4 MB of additional disk space will be used.\n",
            "Get:1 http://archive.ubuntu.com/ubuntu bionic/universe amd64 mecab-ipadic all 2.7.0-20070801+main-1 [12.1 MB]\n",
            "Get:2 http://archive.ubuntu.com/ubuntu bionic/universe amd64 mecab-ipadic-utf8 all 2.7.0-20070801+main-1 [3,522 B]\n",
            "Fetched 12.1 MB in 0s (25.5 MB/s)\n",
            "Selecting previously unselected package mecab-ipadic.\n",
            "(Reading database ... 157134 files and directories currently installed.)\n",
            "Preparing to unpack .../mecab-ipadic_2.7.0-20070801+main-1_all.deb ...\n",
            "Unpacking mecab-ipadic (2.7.0-20070801+main-1) ...\n",
            "Selecting previously unselected package mecab-ipadic-utf8.\n",
            "Preparing to unpack .../mecab-ipadic-utf8_2.7.0-20070801+main-1_all.deb ...\n",
            "Unpacking mecab-ipadic-utf8 (2.7.0-20070801+main-1) ...\n",
            "Setting up mecab-ipadic (2.7.0-20070801+main-1) ...\n",
            "Compiling IPA dictionary for Mecab.  This takes long time...\n",
            "reading /usr/share/mecab/dic/ipadic/unk.def ... 40\n",
            "emitting double-array: 100% |###########################################| \n",
            "/usr/share/mecab/dic/ipadic/model.def is not found. skipped.\n",
            "reading /usr/share/mecab/dic/ipadic/Verb.csv ... 130750\n",
            "reading /usr/share/mecab/dic/ipadic/Symbol.csv ... 208\n",
            "reading /usr/share/mecab/dic/ipadic/Noun.place.csv ... 72999\n",
            "reading /usr/share/mecab/dic/ipadic/Noun.number.csv ... 42\n",
            "reading /usr/share/mecab/dic/ipadic/Noun.proper.csv ... 27327\n",
            "reading /usr/share/mecab/dic/ipadic/Conjunction.csv ... 171\n",
            "reading /usr/share/mecab/dic/ipadic/Adverb.csv ... 3032\n",
            "reading /usr/share/mecab/dic/ipadic/Noun.demonst.csv ... 120\n",
            "reading /usr/share/mecab/dic/ipadic/Noun.csv ... 60477\n",
            "reading /usr/share/mecab/dic/ipadic/Filler.csv ... 19\n",
            "reading /usr/share/mecab/dic/ipadic/Postp.csv ... 146\n",
            "reading /usr/share/mecab/dic/ipadic/Noun.others.csv ... 151\n",
            "reading /usr/share/mecab/dic/ipadic/Auxil.csv ... 199\n",
            "reading /usr/share/mecab/dic/ipadic/Others.csv ... 2\n",
            "reading /usr/share/mecab/dic/ipadic/Adnominal.csv ... 135\n",
            "reading /usr/share/mecab/dic/ipadic/Interjection.csv ... 252\n",
            "reading /usr/share/mecab/dic/ipadic/Noun.nai.csv ... 42\n",
            "reading /usr/share/mecab/dic/ipadic/Noun.adverbal.csv ... 795\n",
            "reading /usr/share/mecab/dic/ipadic/Prefix.csv ... 221\n",
            "reading /usr/share/mecab/dic/ipadic/Adj.csv ... 27210\n",
            "reading /usr/share/mecab/dic/ipadic/Noun.verbal.csv ... 12146\n",
            "reading /usr/share/mecab/dic/ipadic/Suffix.csv ... 1393\n",
            "reading /usr/share/mecab/dic/ipadic/Noun.name.csv ... 34202\n",
            "reading /usr/share/mecab/dic/ipadic/Noun.org.csv ... 16668\n",
            "reading /usr/share/mecab/dic/ipadic/Postp-col.csv ... 91\n",
            "reading /usr/share/mecab/dic/ipadic/Noun.adjv.csv ... 3328\n",
            "emitting double-array: 100% |###########################################| \n",
            "reading /usr/share/mecab/dic/ipadic/matrix.def ... 1316x1316\n",
            "emitting matrix      : 100% |###########################################| \n",
            "\n",
            "done!\n",
            "update-alternatives: using /var/lib/mecab/dic/ipadic to provide /var/lib/mecab/dic/debian (mecab-dictionary) in auto mode\n",
            "Setting up mecab-ipadic-utf8 (2.7.0-20070801+main-1) ...\n",
            "Compiling IPA dictionary for Mecab.  This takes long time...\n",
            "reading /usr/share/mecab/dic/ipadic/unk.def ... 40\n",
            "emitting double-array: 100% |###########################################| \n",
            "/usr/share/mecab/dic/ipadic/model.def is not found. skipped.\n",
            "reading /usr/share/mecab/dic/ipadic/Verb.csv ... 130750\n",
            "reading /usr/share/mecab/dic/ipadic/Symbol.csv ... 208\n",
            "reading /usr/share/mecab/dic/ipadic/Noun.place.csv ... 72999\n",
            "reading /usr/share/mecab/dic/ipadic/Noun.number.csv ... 42\n",
            "reading /usr/share/mecab/dic/ipadic/Noun.proper.csv ... 27327\n",
            "reading /usr/share/mecab/dic/ipadic/Conjunction.csv ... 171\n",
            "reading /usr/share/mecab/dic/ipadic/Adverb.csv ... 3032\n",
            "reading /usr/share/mecab/dic/ipadic/Noun.demonst.csv ... 120\n",
            "reading /usr/share/mecab/dic/ipadic/Noun.csv ... 60477\n",
            "reading /usr/share/mecab/dic/ipadic/Filler.csv ... 19\n",
            "reading /usr/share/mecab/dic/ipadic/Postp.csv ... 146\n",
            "reading /usr/share/mecab/dic/ipadic/Noun.others.csv ... 151\n",
            "reading /usr/share/mecab/dic/ipadic/Auxil.csv ... 199\n",
            "reading /usr/share/mecab/dic/ipadic/Others.csv ... 2\n",
            "reading /usr/share/mecab/dic/ipadic/Adnominal.csv ... 135\n",
            "reading /usr/share/mecab/dic/ipadic/Interjection.csv ... 252\n",
            "reading /usr/share/mecab/dic/ipadic/Noun.nai.csv ... 42\n",
            "reading /usr/share/mecab/dic/ipadic/Noun.adverbal.csv ... 795\n",
            "reading /usr/share/mecab/dic/ipadic/Prefix.csv ... 221\n",
            "reading /usr/share/mecab/dic/ipadic/Adj.csv ... 27210\n",
            "reading /usr/share/mecab/dic/ipadic/Noun.verbal.csv ... 12146\n",
            "reading /usr/share/mecab/dic/ipadic/Suffix.csv ... 1393\n",
            "reading /usr/share/mecab/dic/ipadic/Noun.name.csv ... 34202\n",
            "reading /usr/share/mecab/dic/ipadic/Noun.org.csv ... 16668\n",
            "reading /usr/share/mecab/dic/ipadic/Postp-col.csv ... 91\n",
            "reading /usr/share/mecab/dic/ipadic/Noun.adjv.csv ... 3328\n",
            "emitting double-array: 100% |###########################################| \n",
            "reading /usr/share/mecab/dic/ipadic/matrix.def ... 1316x1316\n",
            "emitting matrix      : 100% |###########################################| \n",
            "\n",
            "done!\n",
            "update-alternatives: using /var/lib/mecab/dic/ipadic-utf8 to provide /var/lib/mecab/dic/debian (mecab-dictionary) in auto mode\n",
            "Collecting mecab-python3==0.996.5\n",
            "  Downloading mecab_python3-0.996.5-cp37-cp37m-manylinux2010_x86_64.whl (17.1 MB)\n",
            "\u001b[K     |████████████████████████████████| 17.1 MB 91 kB/s \n",
            "\u001b[?25hInstalling collected packages: mecab-python3\n",
            "Successfully installed mecab-python3-0.996.5\n",
            "Collecting unidic-lite\n",
            "  Downloading unidic-lite-1.0.8.tar.gz (47.4 MB)\n",
            "\u001b[K     |████████████████████████████████| 47.4 MB 1.4 MB/s \n",
            "\u001b[?25hBuilding wheels for collected packages: unidic-lite\n",
            "  Building wheel for unidic-lite (setup.py) ... \u001b[?25l\u001b[?25hdone\n",
            "  Created wheel for unidic-lite: filename=unidic_lite-1.0.8-py3-none-any.whl size=47658836 sha256=a8a08e62d55cb322b435a2e6328ff0856bc8c9e5eaf7e06adfdf799f967bd11d\n",
            "  Stored in directory: /root/.cache/pip/wheels/de/69/b1/112140b599f2b13f609d485a99e357ba68df194d2079c5b1a2\n",
            "Successfully built unidic-lite\n",
            "Installing collected packages: unidic-lite\n",
            "Successfully installed unidic-lite-1.0.8\n",
            "Collecting japanize-matplotlib\n",
            "  Downloading japanize-matplotlib-1.1.3.tar.gz (4.1 MB)\n",
            "\u001b[K     |████████████████████████████████| 4.1 MB 5.2 MB/s \n",
            "\u001b[?25hRequirement already satisfied: matplotlib in /usr/local/lib/python3.7/dist-packages (from japanize-matplotlib) (3.2.2)\n",
            "Requirement already satisfied: kiwisolver>=1.0.1 in /usr/local/lib/python3.7/dist-packages (from matplotlib->japanize-matplotlib) (1.4.0)\n",
            "Requirement already satisfied: python-dateutil>=2.1 in /usr/local/lib/python3.7/dist-packages (from matplotlib->japanize-matplotlib) (2.8.2)\n",
            "Requirement already satisfied: pyparsing!=2.0.4,!=2.1.2,!=2.1.6,>=2.0.1 in /usr/local/lib/python3.7/dist-packages (from matplotlib->japanize-matplotlib) (3.0.7)\n",
            "Requirement already satisfied: cycler>=0.10 in /usr/local/lib/python3.7/dist-packages (from matplotlib->japanize-matplotlib) (0.11.0)\n",
            "Requirement already satisfied: numpy>=1.11 in /usr/local/lib/python3.7/dist-packages (from matplotlib->japanize-matplotlib) (1.21.5)\n",
            "Requirement already satisfied: typing-extensions in /usr/local/lib/python3.7/dist-packages (from kiwisolver>=1.0.1->matplotlib->japanize-matplotlib) (3.10.0.2)\n",
            "Requirement already satisfied: six>=1.5 in /usr/local/lib/python3.7/dist-packages (from python-dateutil>=2.1->matplotlib->japanize-matplotlib) (1.15.0)\n",
            "Building wheels for collected packages: japanize-matplotlib\n",
            "  Building wheel for japanize-matplotlib (setup.py) ... \u001b[?25l\u001b[?25hdone\n",
            "  Created wheel for japanize-matplotlib: filename=japanize_matplotlib-1.1.3-py3-none-any.whl size=4120275 sha256=e29b5885e78fb979f0db41f7e36e3442cd768485a5fecaefb706971a38e31ae7\n",
            "  Stored in directory: /root/.cache/pip/wheels/83/97/6b/e9e0cde099cc40f972b8dd23367308f7705ae06cd6d4714658\n",
            "Successfully built japanize-matplotlib\n",
            "Installing collected packages: japanize-matplotlib\n",
            "Successfully installed japanize-matplotlib-1.1.3\n"
          ]
        }
      ]
    },
    {
      "cell_type": "code",
      "metadata": {
        "id": "copmbLQyN9kQ"
      },
      "source": [
        "import MeCab\n",
        "import numpy as np\n",
        "import time\n",
        "\n",
        "import torch\n",
        "import torch.nn as nn\n",
        "import torch.nn.functional as F\n",
        "import torch.optim as optim\n",
        "\n",
        "\n",
        "device = torch.device(\"cuda\" if torch.cuda.is_available() else \"cpu\")"
      ],
      "execution_count": 2,
      "outputs": []
    },
    {
      "cell_type": "markdown",
      "metadata": {
        "id": "7kAj-VkYN9kb"
      },
      "source": [
        "## 1. 前処理"
      ]
    },
    {
      "cell_type": "markdown",
      "metadata": {
        "id": "50DXNKdgN9ki"
      },
      "source": [
        "### 1.1. 形態素解析"
      ]
    },
    {
      "cell_type": "markdown",
      "metadata": {
        "id": "zHGG_8IHN9ki"
      },
      "source": [
        "文などを分割して、言語で意味を持つ最小単位である形態素の列に変換し、その品詞を推定することを形態素解析と呼びます。"
      ]
    },
    {
      "cell_type": "code",
      "metadata": {
        "id": "S1x8GdV0N9ko",
        "colab": {
          "base_uri": "https://localhost:8080/"
        },
        "outputId": "413caf65-0f7e-4112-c694-83311a475908"
      },
      "source": [
        "tagger = MeCab.Tagger('-Ochasen')\n",
        "node = tagger.parse(\"デジタルコンサルタント職では、常に最新のデジタルテクノロジーを学び、活用することができるからです。\")\n",
        "print(node)"
      ],
      "execution_count": 3,
      "outputs": [
        {
          "output_type": "stream",
          "name": "stdout",
          "text": [
            "デジタル\tデジタル\tデジタル\t名詞-一般\t\t\n",
            "コンサルタント\tコンサルタント\tコンサルタント\t名詞-一般\t\t\n",
            "職\tショク\t職\t名詞-接尾-一般\t\t\n",
            "で\tデ\tで\t助詞-格助詞-一般\t\t\n",
            "は\tハ\tは\t助詞-係助詞\t\t\n",
            "、\t、\t、\t記号-読点\t\t\n",
            "常に\tツネニ\t常に\t副詞-一般\t\t\n",
            "最新\tサイシン\t最新\t名詞-一般\t\t\n",
            "の\tノ\tの\t助詞-連体化\t\t\n",
            "デジタル\tデジタル\tデジタル\t名詞-一般\t\t\n",
            "テクノロジー\tテクノロジー\tテクノロジー\t名詞-一般\t\t\n",
            "を\tヲ\tを\t助詞-格助詞-一般\t\t\n",
            "学び\tマナビ\t学ぶ\t動詞-自立\t五段・バ行\t連用形\n",
            "、\t、\t、\t記号-読点\t\t\n",
            "活用\tカツヨウ\t活用\t名詞-サ変接続\t\t\n",
            "する\tスル\tする\t動詞-自立\tサ変・スル\t基本形\n",
            "こと\tコト\tこと\t名詞-非自立-一般\t\t\n",
            "が\tガ\tが\t助詞-格助詞-一般\t\t\n",
            "できる\tデキル\tできる\t動詞-自立\t一段\t基本形\n",
            "から\tカラ\tから\t助詞-接続助詞\t\t\n",
            "です\tデス\tです\t助動詞\t特殊・デス\t基本形\n",
            "。\t。\t。\t記号-句点\t\t\n",
            "EOS\n",
            "\n"
          ]
        }
      ]
    },
    {
      "cell_type": "markdown",
      "metadata": {
        "id": "VVEAcDPXN9k9"
      },
      "source": [
        "### 1.2. MeCabを用いて文を形態素に分割"
      ]
    },
    {
      "cell_type": "markdown",
      "metadata": {
        "id": "cZIruviaN9k9"
      },
      "source": [
        "先ほどの形態素解析の結果を用いて、日本語の文を形態素に分割する関数を定義します。"
      ]
    },
    {
      "cell_type": "code",
      "metadata": {
        "id": "YRq6oB8NN9lC"
      },
      "source": [
        "def tokenize(sentence):\n",
        "    \"\"\"日本語の文を形態素の列に分割する関数\n",
        "\n",
        "    :param sentence: str, 日本語の文\n",
        "    :return tokenized_sentence: list of str, 形態素のリスト\n",
        "    \"\"\"\n",
        "    node = tagger.parse(sentence)\n",
        "    node = node.split(\"\\n\")\n",
        "    tokenized_sentence = []\n",
        "    for i in range(len(node)):\n",
        "        feature = node[i].split(\"\\t\")\n",
        "        if feature[0] == \"EOS\":\n",
        "            # 文が終わったら終了\n",
        "            break\n",
        "        elif not(feature[0] == \"、\" or feature[0] == \"。\" or feature[0] == \" \") :\n",
        "           if  feature[3].startswith(('形容詞', '名詞','副詞')):\n",
        "        # 分割された形態素を追加\n",
        "                print(feature)\n",
        "                tokenized_sentence.append(feature[0])\n",
        "    return tokenized_sentence"
      ],
      "execution_count": 4,
      "outputs": []
    },
    {
      "cell_type": "code",
      "metadata": {
        "scrolled": true,
        "id": "tDXGBSboN9lR",
        "colab": {
          "base_uri": "https://localhost:8080/"
        },
        "outputId": "8d5a74c9-38f8-4feb-9427-24339b6a57cb"
      },
      "source": [
        "#test for関数\n",
        "tokenize(\"坊主が屏風に上手に坊主の絵を描いた\")"
      ],
      "execution_count": 5,
      "outputs": [
        {
          "output_type": "stream",
          "name": "stdout",
          "text": [
            "['坊主', 'ボウズ', '坊主', '名詞-一般', '', '']\n",
            "['屏風', 'ビョウブ', '屏風', '名詞-一般', '', '']\n",
            "['上手', 'ジョウズ', '上手', '名詞-形容動詞語幹', '', '']\n",
            "['坊主', 'ボウズ', '坊主', '名詞-一般', '', '']\n",
            "['絵', 'エ', '絵', '名詞-一般', '', '']\n"
          ]
        },
        {
          "output_type": "execute_result",
          "data": {
            "text/plain": [
              "['坊主', '屏風', '上手', '坊主', '絵']"
            ]
          },
          "metadata": {},
          "execution_count": 5
        }
      ]
    },
    {
      "cell_type": "code",
      "metadata": {
        "id": "JMgedRXHN9lv"
      },
      "source": [
        "def load_data(path):\n",
        "    \"\"\"読み込むための関数\n",
        "\n",
        "    :param path: str, パス\n",
        "    :return text: list of list of str, 各文がトークナイズされた\n",
        "    \"\"\"\n",
        "    text = []\n",
        "    with open(path, \"r\") as f:\n",
        "        for line in f:\n",
        "            line = line.strip()\n",
        "            line = tokenize(line)\n",
        "            text.append(line)\n",
        "    return text"
      ],
      "execution_count": 6,
      "outputs": []
    },
    {
      "cell_type": "markdown",
      "metadata": {
        "id": "-x5y3xcRN9la"
      },
      "source": [
        "### 1.3. データ読み込み"
      ]
    },
    {
      "cell_type": "markdown",
      "metadata": {
        "id": "pQyZCg9HN9le"
      },
      "source": [
        "'Data_consultant.txt': データコンサルタント志望理由(n=9)\n"
      ]
    },
    {
      "cell_type": "code",
      "metadata": {
        "id": "oLS9snsyN9l_",
        "colab": {
          "base_uri": "https://localhost:8080/"
        },
        "outputId": "81b11565-1236-4909-da45-e028de74d157"
      },
      "source": [
        "text = load_data('Data_consultant.txt')"
      ],
      "execution_count": 7,
      "outputs": [
        {
          "output_type": "stream",
          "name": "stdout",
          "text": [
            "['デジタル', 'デジタル', 'デジタル', '名詞-一般', '', '']\n",
            "['コンサルタント', 'コンサルタント', 'コンサルタント', '名詞-一般', '', '']\n",
            "['職', 'ショク', '職', '名詞-接尾-一般', '', '']\n",
            "['常に', 'ツネニ', '常に', '副詞-一般', '', '']\n",
            "['最新', 'サイシン', '最新', '名詞-一般', '', '']\n",
            "['デジタル', 'デジタル', 'デジタル', '名詞-一般', '', '']\n",
            "['テクノロジー', 'テクノロジー', 'テクノロジー', '名詞-一般', '', '']\n",
            "['活用', 'カツヨウ', '活用', '名詞-サ変接続', '', '']\n",
            "['こと', 'コト', 'こと', '名詞-非自立-一般', '', '']\n",
            "['私', 'ワタシ', '私', '名詞-代名詞-一般', '', '']\n",
            "['大学', 'ダイガク', '大学', '名詞-一般', '', '']\n",
            "['情報', 'ジョウホウ', '情報', '名詞-一般', '', '']\n",
            "['系', 'ケイ', '系', '名詞-接尾-一般', '', '']\n",
            "['主', 'オモ', '主', '名詞-形容動詞語幹', '', '']\n",
            "['それら', 'ソレラ', 'それら', '名詞-代名詞-一般', '', '']\n",
            "['魅力', 'ミリョク', '魅力', '名詞-一般', '', '']\n",
            "['今後', 'コンゴ', '今後', '名詞-副詞可能', '', '']\n",
            "['可能', 'カノウ', '可能', '名詞-形容動詞語幹', '', '']\n",
            "['性', 'セイ', '性', '名詞-接尾-一般', '', '']\n",
            "['これから', 'コレカラ', 'これから', '副詞-助詞類接続', '', '']\n",
            "['社会', 'シャカイ', '社会', '名詞-一般', '', '']\n",
            "['人', 'ジン', '人', '名詞-接尾-一般', '', '']\n",
            "['上', 'ウエ', '上', '名詞-非自立-副詞可能', '', '']\n",
            "['常に', 'ツネニ', '常に', '副詞-一般', '', '']\n",
            "['新しい', 'アタラシイ', '新しい', '形容詞-自立', '形容詞・イ段', '基本形']\n",
            "['技術', 'ギジュツ', '技術', '名詞-一般', '', '']\n",
            "['姿勢', 'シセイ', '姿勢', '名詞-一般', '', '']\n",
            "['大切', 'タイセツ', '大切', '名詞-形容動詞語幹', '', '']\n",
            "['自身', 'ジシン', '自身', '名詞-一般', '', '']\n",
            "['成長', 'セイチョウ', '成長', '名詞-サ変接続', '', '']\n",
            "['ため', 'タメ', 'ため', '名詞-非自立-副詞可能', '', '']\n",
            "['常に', 'ツネニ', '常に', '副詞-一般', '', '']\n",
            "['最新', 'サイシン', '最新', '名詞-一般', '', '']\n",
            "['デジタル', 'デジタル', 'デジタル', '名詞-一般', '', '']\n",
            "['テクノロジー', 'テクノロジー', 'テクノロジー', '名詞-一般', '', '']\n",
            "['活用', 'カツヨウ', '活用', '名詞-サ変接続', '', '']\n",
            "['こと', 'コト', 'こと', '名詞-非自立-一般', '', '']\n",
            "['デジタル', 'デジタル', 'デジタル', '名詞-一般', '', '']\n",
            "['コンサルタント', 'コンサルタント', 'コンサルタント', '名詞-一般', '', '']\n",
            "['職', 'ショク', '職', '名詞-接尾-一般', '', '']\n",
            "['志望', 'シボウ', '志望', '名詞-サ変接続', '', '']\n",
            "['最先端', 'サイセンタン', '最先端', '名詞-一般', '', '']\n",
            "['デジタル技術', 'デジタルギジュツ', 'デジタル技術', '名詞-一般', '', '']\n",
            "['専門', 'センモン', '専門', '名詞-一般', '', '']\n",
            "['性', 'セイ', '性', '名詞-接尾-一般', '', '']\n",
            "['それ', 'ソレ', 'それ', '名詞-代名詞-一般', '', '']\n",
            "['課題', 'カダイ', '課題', '名詞-一般', '', '']\n",
            "['解決', 'カイケツ', '解決', '名詞-サ変接続', '', '']\n",
            "['新た', 'アラタ', '新た', '名詞-形容動詞語幹', '', '']\n",
            "['価値', 'カチ', '価値', '名詞-一般', '', '']\n",
            "['創造', 'ソウゾウ', '創造', '名詞-サ変接続', '', '']\n",
            "['私', 'ワタシ', '私', '名詞-代名詞-一般', '', '']\n",
            "['ゼミ', 'ゼミ', 'ゼミ', '名詞-一般', '', '']\n",
            "['研究', 'ケンキュウ', '研究', '名詞-サ変接続', '', '']\n",
            "['IoT', 'IoT', 'IoT', '名詞-固有名詞-組織', '', '']\n",
            "['AI', 'AI', 'AI', '名詞-固有名詞-組織', '', '']\n",
            "['最先端', 'サイセンタン', '最先端', '名詞-一般', '', '']\n",
            "['デジタル技術', 'デジタルギジュツ', 'デジタル技術', '名詞-一般', '', '']\n",
            "['今後', 'コンゴ', '今後', '名詞-副詞可能', '', '']\n",
            "['社会', 'シャカイ', '社会', '名詞-一般', '', '']\n",
            "['非常', 'ヒジョウ', '非常', '名詞-形容動詞語幹', '', '']\n",
            "['可能', 'カノウ', '可能', '名詞-形容動詞語幹', '', '']\n",
            "['性', 'セイ', '性', '名詞-接尾-一般', '', '']\n",
            "['こと', 'コト', 'こと', '名詞-非自立-一般', '', '']\n",
            "['関心', 'カンシン', '関心', '名詞-一般', '', '']\n",
            "['ため', 'タメ', 'ため', '名詞-非自立-副詞可能', '', '']\n",
            "['デジタル技術', 'デジタルギジュツ', 'デジタル技術', '名詞-一般', '', '']\n",
            "['専門', 'センモン', '専門', '名詞-一般', '', '']\n",
            "['性', 'セイ', '性', '名詞-接尾-一般', '', '']\n",
            "['顧客', 'コキャク', '顧客', '名詞-一般', '', '']\n",
            "['課題', 'カダイ', '課題', '名詞-一般', '', '']\n",
            "['解決', 'カイケツ', '解決', '名詞-サ変接続', '', '']\n",
            "['新しい', 'アタラシイ', '新しい', '形容詞-自立', '形容詞・イ段', '基本形']\n",
            "['社会', 'シャカイ', '社会', '名詞-一般', '', '']\n",
            "['変革', 'ヘンカク', '変革', '名詞-サ変接続', '', '']\n",
            "['寄与', 'キヨ', '寄与', '名詞-サ変接続', '', '']\n",
            "['私', 'ワタシ', '私', '名詞-代名詞-一般', '', '']\n",
            "['デジタル', 'デジタル', 'デジタル', '名詞-一般', '', '']\n",
            "['コンサルタント', 'コンサルタント', 'コンサルタント', '名詞-一般', '', '']\n",
            "['一', 'イチ', '一', '名詞-数', '', '']\n",
            "['志望', 'シボウ', '志望', '名詞-サ変接続', '', '']\n",
            "['職種', 'ショクシュ', '職種', '名詞-一般', '', '']\n",
            "['理由', 'リユウ', '理由', '名詞-一般', '', '']\n",
            "['私', 'ワタシ', '私', '名詞-代名詞-一般', '', '']\n",
            "['貴社', 'キシャ', '貴社', '名詞-一般', '', '']\n",
            "['実現', 'ジツゲン', '実現', '名詞-サ変接続', '', '']\n",
            "['こと', 'コト', 'こと', '名詞-非自立-一般', '', '']\n",
            "['最適', 'サイテキ', '最適', '名詞-形容動詞語幹', '', '']\n",
            "['職種', 'ショクシュ', '職種', '名詞-一般', '', '']\n",
            "['私', 'ワタシ', '私', '名詞-代名詞-一般', '', '']\n",
            "['企業', 'キギョウ', '企業', '名詞-一般', '', '']\n",
            "['激しく', 'ハゲシク', '激しい', '形容詞-自立', '形容詞・イ段', '連用テ接続']\n",
            "['変化', 'ヘンカ', '変化', '名詞-サ変接続', '', '']\n",
            "['時代', 'ジダイ', '時代', '名詞-一般', '', '']\n",
            "['対応', 'タイオウ', '対応', '名詞-サ変接続', '', '']\n",
            "['ため', 'タメ', 'ため', '名詞-非自立-副詞可能', '', '']\n",
            "['デジタル', 'デジタル', 'デジタル', '名詞-一般', '', '']\n",
            "['化', 'カ', '化', '名詞-接尾-サ変接続', '', '']\n",
            "['必須', 'ヒッス', '必須', '名詞-形容動詞語幹', '', '']\n",
            "['ため', 'タメ', 'ため', '名詞-非自立-副詞可能', '', '']\n",
            "['最先端', 'サイセンタン', '最先端', '名詞-一般', '', '']\n",
            "['デジタル', 'デジタル', 'デジタル', '名詞-一般', '', '']\n",
            "['幅広く', 'ハバヒロク', '幅広い', '形容詞-自立', '形容詞・アウオ段', '連用テ接続']\n",
            "['高度', 'コウド', '高度', '名詞-形容動詞語幹', '', '']\n",
            "['知見', 'チケン', '知見', '名詞-一般', '', '']\n",
            "['常に', 'ツネニ', '常に', '副詞-一般', '', '']\n",
            "['それら', 'ソレラ', 'それら', '名詞-代名詞-一般', '', '']\n",
            "['応用', 'オウヨウ', '応用', '名詞-サ変接続', '', '']\n",
            "['必要', 'ヒツヨウ', '必要', '名詞-形容動詞語幹', '', '']\n",
            "['それ', 'ソレ', 'それ', '名詞-代名詞-一般', '', '']\n",
            "['同時に', 'ドウジニ', '同時に', '副詞-一般', '', '']\n",
            "['普遍', 'フヘン', '普遍', '名詞-一般', '', '']\n",
            "['的', 'テキ', '的', '名詞-接尾-形容動詞語幹', '', '']\n",
            "['方法', 'ホウホウ', '方法', '名詞-一般', '', '']\n",
            "['論', 'ロン', '論', '名詞-接尾-一般', '', '']\n",
            "['身', 'ミ', '身', '名詞-一般', '', '']\n",
            "['顧客', 'コキャク', '顧客', '名詞-一般', '', '']\n",
            "['新た', 'アラタ', '新た', '名詞-形容動詞語幹', '', '']\n",
            "['価値', 'カチ', '価値', '名詞-一般', '', '']\n",
            "['提供', 'テイキョウ', '提供', '名詞-サ変接続', '', '']\n",
            "['顧客', 'コキャク', '顧客', '名詞-一般', '', '']\n",
            "['テクノロジー', 'テクノロジー', 'テクノロジー', '名詞-一般', '', '']\n",
            "['何', 'ナニ', '何', '名詞-代名詞-一般', '', '']\n",
            "['コンサルタント', 'コンサルタント', 'コンサルタント', '名詞-一般', '', '']\n",
            "['昨今', 'サッコン', '昨今', '名詞-副詞可能', '', '']\n",
            "['社会', 'シャカイ', '社会', '名詞-一般', '', '']\n",
            "['情勢', 'ジョウセイ', '情勢', '名詞-一般', '', '']\n",
            "['テクノロジー', 'テクノロジー', 'テクノロジー', '名詞-一般', '', '']\n",
            "['活用', 'カツヨウ', '活用', '名詞-サ変接続', '', '']\n",
            "['ＤＸ', 'ＤＸ', 'ＤＸ', '名詞-一般', '', '']\n",
            "['化', 'カ', '化', '名詞-接尾-サ変接続', '', '']\n",
            "['推進', 'スイシン', '推進', '名詞-サ変接続', '', '']\n",
            "['私', 'ワタシ', '私', '名詞-代名詞-一般', '', '']\n",
            "['あまりに', 'アマリニ', 'あまりに', '副詞-助詞類接続', '', '']\n",
            "['推進', 'スイシン', '推進', '名詞-サ変接続', '', '']\n",
            "['テクノロジー', 'テクノロジー', 'テクノロジー', '名詞-一般', '', '']\n",
            "['手段', 'シュダン', '手段', '名詞-一般', '', '']\n",
            "['目的', 'モクテキ', '目的', '名詞-一般', '', '']\n",
            "['危惧', 'キグ', '危惧', '名詞-サ変接続', '', '']\n",
            "['中', 'ナカ', '中', '名詞-非自立-副詞可能', '', '']\n",
            "['顧客', 'コキャク', '顧客', '名詞-一般', '', '']\n",
            "['テクノロジー', 'テクノロジー', 'テクノロジー', '名詞-一般', '', '']\n",
            "['何', 'ナニ', '何', '名詞-代名詞-一般', '', '']\n",
            "['実現', 'ジツゲン', '実現', '名詞-サ変接続', '', '']\n",
            "['の', 'ノ', 'の', '名詞-非自立-一般', '', '']\n",
            "['何', 'ナニ', '何', '名詞-代名詞-一般', '', '']\n",
            "['必要', 'ヒツヨウ', '必要', '名詞-形容動詞語幹', '', '']\n",
            "['の', 'ノ', 'の', '名詞-非自立-一般', '', '']\n",
            "['コンサルタント', 'コンサルタント', 'コンサルタント', '名詞-一般', '', '']\n",
            "['自身', 'ジシン', '自身', '名詞-一般', '', '']\n",
            "['研究', 'ケンキュウ', '研究', '名詞-サ変接続', '', '']\n",
            "['無限', 'ムゲン', '無限', '名詞-形容動詞語幹', '', '']\n",
            "['可能', 'カノウ', '可能', '名詞-形容動詞語幹', '', '']\n",
            "['性', 'セイ', '性', '名詞-接尾-一般', '', '']\n",
            "['実感', 'ジッカン', '実感', '名詞-サ変接続', '', '']\n",
            "['IT', 'IT', 'IT', '名詞-一般', '', '']\n",
            "['技術', 'ギジュツ', '技術', '名詞-一般', '', '']\n",
            "['課題', 'カダイ', '課題', '名詞-一般', '', '']\n",
            "['解決', 'カイケツ', '解決', '名詞-サ変接続', '', '']\n",
            "['こと', 'コト', 'こと', '名詞-非自立-一般', '', '']\n",
            "['これから', 'コレカラ', 'これから', '副詞-助詞類接続', '', '']\n",
            "['時代', 'ジダイ', '時代', '名詞-一般', '', '']\n",
            "['業界', 'ギョウカイ', '業界', '名詞-一般', '', '']\n",
            "['業種', 'ギョウシュ', '業種', '名詞-一般', '', '']\n",
            "['IT', 'IT', 'IT', '名詞-一般', '', '']\n",
            "['無視', 'ムシ', '無視', '名詞-サ変接続', '', '']\n",
            "['こと', 'コト', 'こと', '名詞-非自立-一般', '', '']\n",
            "['IT', 'IT', 'IT', '名詞-固有名詞-組織', '', '']\n",
            "['経営', 'ケイエイ', '経営', '名詞-サ変接続', '', '']\n",
            "['視点', 'シテン', '視点', '名詞-一般', '', '']\n",
            "['プロフェッショナル', 'プロフェッショナル', 'プロフェッショナル', '名詞-一般', '', '']\n",
            "['様々', 'サマザマ', '様々', '名詞-形容動詞語幹', '', '']\n",
            "['企業', 'キギョウ', '企業', '名詞-一般', '', '']\n",
            "['新た', 'アラタ', '新た', '名詞-形容動詞語幹', '', '']\n",
            "['価値', 'カチ', '価値', '名詞-一般', '', '']\n",
            "['創出', 'ソウシュツ', '創出', '名詞-サ変接続', '', '']\n",
            "['プロジェクト', 'プロジェクト', 'プロジェクト', '名詞-一般', '', '']\n",
            "['ごと', 'ゴト', 'ごと', '名詞-接尾-一般', '', '']\n",
            "['幅広い', 'ハバヒロイ', '幅広い', '形容詞-自立', '形容詞・アウオ段', '基本形']\n",
            "['分野', 'ブンヤ', '分野', '名詞-一般', '', '']\n",
            "['知識', 'チシキ', '知識', '名詞-一般', '', '']\n",
            "['身', 'ミ', '身', '名詞-一般', '', '']\n",
            "['こと', 'コト', 'こと', '名詞-非自立-一般', '', '']\n",
            "['クライアント', 'クライアント', 'クライアント', '名詞-一般', '', '']\n",
            "['課題', 'カダイ', '課題', '名詞-一般', '', '']\n",
            "['解決', 'カイケツ', '解決', '名詞-サ変接続', '', '']\n",
            "['成長', 'セイチョウ', '成長', '名詞-サ変接続', '', '']\n",
            "['デジタル', 'デジタル', 'デジタル', '名詞-一般', '', '']\n",
            "['コンサルタント', 'コンサルタント', 'コンサルタント', '名詞-一般', '', '']\n",
            "['大学', 'ダイガク', '大学', '名詞-一般', '', '']\n",
            "['大学院', 'ダイガクイン', '大学院', '名詞-一般', '', '']\n",
            "['これ', 'コレ', 'これ', '名詞-代名詞-一般', '', '']\n",
            "['データ', 'データ', 'データ', '名詞-一般', '', '']\n",
            "['収集', 'シュウシュウ', '収集', '名詞-サ変接続', '', '']\n",
            "['分析', 'ブンセキ', '分析', '名詞-サ変接続', '', '']\n",
            "['スキル', 'スキル', 'スキル', '名詞-一般', '', '']\n",
            "['⽣', '⽣', '⽣', '名詞-一般', '', '']\n",
            "['こと', 'コト', 'こと', '名詞-非自立-一般', '', '']\n",
            "['自分', 'ジブン', '自分', '名詞-一般', '', '']\n",
            "['強み', 'ツヨミ', '強み', '名詞-一般', '', '']\n",
            "['分野', 'ブンヤ', '分野', '名詞-一般', '', '']\n",
            "['企業', 'キギョウ', '企業', '名詞-一般', '', '']\n",
            "['機関', 'キカン', '機関', '名詞-一般', '', '']\n",
            "['DX', 'DX', 'DX', '名詞-一般', '', '']\n",
            "['不安', 'フアン', '不安', '名詞-形容動詞語幹', '', '']\n",
            "['解消', 'カイショウ', '解消', '名詞-サ変接続', '', '']\n",
            "['DX', 'DX', 'DX', '名詞-固有名詞-組織', '', '']\n",
            "['プロセス', 'プロセス', 'プロセス', '名詞-一般', '', '']\n",
            "['包括', 'ホウカツ', '包括', '名詞-サ変接続', '', '']\n",
            "['的', 'テキ', '的', '名詞-接尾-形容動詞語幹', '', '']\n",
            "['⽀援', '⽀援', '⽀援', '名詞-一般', '', '']\n",
            "['社会', 'シャカイ', '社会', '名詞-一般', '', '']\n",
            "['存在', 'ソンザイ', '存在', '名詞-サ変接続', '', '']\n",
            "['デジタル', 'デジタル', 'デジタル', '名詞-一般', '', '']\n",
            "['コンサルタント', 'コンサルタント', 'コンサルタント', '名詞-一般', '', '']\n",
            "['志望', 'シボウ', '志望', '名詞-サ変接続', '', '']\n",
            "['理由', 'リユウ', '理由', '名詞-一般', '', '']\n",
            "['2', '2', '2', '名詞-数', '', '']\n",
            "['1', '1', '1', '名詞-数', '', '']\n",
            "['目', 'メ', '目', '名詞-一般', '', '']\n",
            "['専門', 'センモン', '専門', '名詞-一般', '', '']\n",
            "['性', 'セイ', '性', '名詞-接尾-一般', '', '']\n",
            "['身', 'ミ', '身', '名詞-一般', '', '']\n",
            "['私', 'ワタシ', '私', '名詞-代名詞-一般', '', '']\n",
            "['就活', '就活', '就活', '名詞-一般', '', '']\n",
            "['軸', 'ジク', '軸', '名詞-一般', '', '']\n",
            "['1', '1', '1', '名詞-数', '', '']\n",
            "['自分', 'ジブン', '自分', '名詞-一般', '', '']\n",
            "['専門', 'センモン', '専門', '名詞-一般', '', '']\n",
            "['性', 'セイ', '性', '名詞-接尾-一般', '', '']\n",
            "['うえ', 'ウエ', 'うえ', '名詞-非自立-副詞可能', '', '']\n",
            "['お客様', 'オキャクサマ', 'お客様', '名詞-一般', '', '']\n",
            "['コンサルタント', 'コンサルタント', 'コンサルタント', '名詞-一般', '', '']\n",
            "['プロジェクト', 'プロジェクト', 'プロジェクト', '名詞-一般', '', '']\n",
            "['遂行', 'スイコウ', '遂行', '名詞-サ変接続', '', '']\n",
            "['2', '2', '2', '名詞-数', '', '']\n",
            "['目', 'メ', '目', '名詞-一般', '', '']\n",
            "['挑戦', 'チョウセン', '挑戦', '名詞-サ変接続', '', '']\n",
            "['常に', 'ツネニ', '常に', '副詞-一般', '', '']\n",
            "['進化', 'シンカ', '進化', '名詞-サ変接続', '', '']\n",
            "['テクノロジー', 'テクノロジー', 'テクノロジー', '名詞-一般', '', '']\n",
            "['こと', 'コト', 'こと', '名詞-非自立-一般', '', '']\n",
            "['常に', 'ツネニ', '常に', '副詞-一般', '', '']\n",
            "['新しい', 'アタラシイ', '新しい', '形容詞-自立', '形容詞・イ段', '基本形']\n",
            "['こと', 'コト', 'こと', '名詞-非自立-一般', '', '']\n",
            "['挑戦', 'チョウセン', '挑戦', '名詞-サ変接続', '', '']\n",
            "['こと', 'コト', 'こと', '名詞-非自立-一般', '', '']\n",
            "['自身', 'ジシン', '自身', '名詞-一般', '', '']\n",
            "['知的', 'チテキ', '知的', '名詞-一般', '', '']\n",
            "['好奇', 'コウキ', '好奇', '名詞-一般', '', '']\n",
            "['心', 'シン', '心', '名詞-接尾-一般', '', '']\n",
            "['強い', 'ツヨイ', '強い', '形容詞-自立', '形容詞・アウオ段', '基本形']\n",
            "['こと', 'コト', 'こと', '名詞-非自立-一般', '', '']\n",
            "['挑戦', 'チョウセン', '挑戦', '名詞-サ変接続', '', '']\n",
            "['こと', 'コト', 'こと', '名詞-非自立-一般', '', '']\n",
            "['魅力', 'ミリョク', '魅力', '名詞-一般', '', '']\n",
            "['1', '1', '1', '名詞-数', '', '']\n",
            "['1', '1', '1', '名詞-数', '', '']\n",
            "['クライアント', 'クライアント', 'クライアント', '名詞-一般', '', '']\n",
            "['企業', 'キギョウ', '企業', '名詞-一般', '', '']\n",
            "['関わり', 'カカワリ', '関わり', '名詞-一般', '', '']\n",
            "['深く', 'フカク', '深い', '形容詞-自立', '形容詞・アウオ段', '連用テ接続']\n",
            "['長期', 'チョウキ', '長期', '名詞-一般', '', '']\n",
            "['的', 'テキ', '的', '名詞-接尾-形容動詞語幹', '', '']\n",
            "['やりがい', 'ヤリガイ', 'やりがい', '名詞-一般', '', '']\n",
            "['大きく', 'オオキク', '大きい', '形容詞-自立', '形容詞・イ段', '連用テ接続']\n",
            "['自分', 'ジブン', '自分', '名詞-一般', '', '']\n",
            "['自身', 'ジシン', '自身', '名詞-一般', '', '']\n",
            "['愛着', 'アイチャク', '愛着', '名詞-サ変接続', '', '']\n",
            "['責任', 'セキニン', '責任', '名詞-一般', '', '']\n",
            "['仕事', 'シゴト', '仕事', '名詞-サ変接続', '', '']\n",
            "['そう', 'ソウ', 'そう', '名詞-接尾-助動詞語幹', '', '']\n",
            "['常に', 'ツネニ', '常に', '副詞-一般', '', '']\n",
            "['最先端', 'サイセンタン', '最先端', '名詞-一般', '', '']\n",
            "['技術', 'ギジュツ', '技術', '名詞-一般', '', '']\n",
            "['駆使', 'クシ', '駆使', '名詞-サ変接続', '', '']\n",
            "['最新', 'サイシン', '最新', '名詞-一般', '', '']\n",
            "['提案', 'テイアン', '提案', '名詞-サ変接続', '', '']\n",
            "['ところ', 'トコロ', 'ところ', '名詞-非自立-副詞可能', '', '']\n",
            "['常に', 'ツネニ', '常に', '副詞-一般', '', '']\n",
            "['好奇', 'コウキ', '好奇', '名詞-一般', '', '']\n",
            "['心', 'シン', '心', '名詞-接尾-一般', '', '']\n",
            "['探究', 'タンキュウ', '探究', '名詞-サ変接続', '', '']\n",
            "['心', 'シン', '心', '名詞-接尾-一般', '', '']\n",
            "['仕事', 'シゴト', '仕事', '名詞-サ変接続', '', '']\n",
            "['そう', 'ソウ', 'そう', '名詞-接尾-助動詞語幹', '', '']\n",
            "['魅力', 'ミリョク', '魅力', '名詞-一般', '', '']\n",
            "['前例', 'ゼンレイ', '前例', '名詞-一般', '', '']\n",
            "['の', 'ノ', 'の', '名詞-非自立-一般', '', '']\n",
            "['前例', 'ゼンレイ', '前例', '名詞-一般', '', '']\n",
            "['常に', 'ツネニ', '常に', '副詞-一般', '', '']\n",
            "['挑戦', 'チョウセン', '挑戦', '名詞-サ変接続', '', '']\n",
            "['環境', 'カンキョウ', '環境', '名詞-一般', '', '']\n",
            "['身', 'ミ', '身', '名詞-一般', '', '']\n",
            "['最新', 'サイシン', '最新', '名詞-一般', '', '']\n",
            "['テクノロジー', 'テクノロジー', 'テクノロジー', '名詞-一般', '', '']\n",
            "['クライアント', 'クライアント', 'クライアント', '名詞-一般', '', '']\n",
            "['貢献', 'コウケン', '貢献', '名詞-サ変接続', '', '']\n",
            "['今後', 'コンゴ', '今後', '名詞-副詞可能', '', '']\n",
            "['さらに', 'サラニ', 'さらに', '副詞-助詞類接続', '', '']\n",
            "['デジタル', 'デジタル', 'デジタル', '名詞-一般', '', '']\n",
            "['多様', 'タヨウ', '多様', '名詞-形容動詞語幹', '', '']\n",
            "['化', 'カ', '化', '名詞-接尾-サ変接続', '', '']\n",
            "['こと', 'コト', 'こと', '名詞-非自立-一般', '', '']\n",
            "['技術', 'ギジュツ', '技術', '名詞-一般', '', '']\n",
            "['手', 'テ', '手', '名詞-一般', '', '']\n",
            "['膨大', 'ボウダイ', '膨大', '名詞-形容動詞語幹', '', '']\n",
            "['さ', 'サ', 'さ', '名詞-接尾-特殊', '', '']\n",
            "['最適', 'サイテキ', '最適', '名詞-一般', '', '']\n",
            "['の', 'ノ', 'の', '名詞-非自立-一般', '', '']\n",
            "['難しい', 'ムズカシイ', '難しい', '形容詞-自立', '形容詞・イ段', '基本形']\n",
            "['問題', 'モンダイ', '問題', '名詞-ナイ形容詞語幹', '', '']\n",
            "['デジタル', 'デジタル', 'デジタル', '名詞-一般', '', '']\n",
            "['コンサルタント', 'コンサルタント', 'コンサルタント', '名詞-一般', '', '']\n",
            "['クライアント', 'クライアント', 'クライアント', '名詞-一般', '', '']\n",
            "['経営', 'ケイエイ', '経営', '名詞-サ変接続', '', '']\n",
            "['デジタル', 'デジタル', 'デジタル', '名詞-一般', '', '']\n",
            "['側面', 'ソクメン', '側面', '名詞-一般', '', '']\n",
            "['サポート', 'サポート', 'サポート', '名詞-サ変接続', '', '']\n",
            "['貴社', 'キシャ', '貴社', '名詞-一般', '', '']\n",
            "['貢献', 'コウケン', '貢献', '名詞-サ変接続', '', '']\n"
          ]
        }
      ]
    },
    {
      "cell_type": "code",
      "metadata": {
        "id": "vj8OHbs3N9mL",
        "colab": {
          "base_uri": "https://localhost:8080/"
        },
        "outputId": "29314967-d293-43ac-b916-7cb321ac4c81"
      },
      "source": [
        "# 分割された結果の例\n",
        "print(text)"
      ],
      "execution_count": 8,
      "outputs": [
        {
          "output_type": "stream",
          "name": "stdout",
          "text": [
            "[['デジタル', 'コンサルタント', '職', '常に', '最新', 'デジタル', 'テクノロジー', '活用', 'こと', '私', '大学', '情報', '系', '主', 'それら', '魅力', '今後', '可能', '性', 'これから', '社会', '人', '上', '常に', '新しい', '技術', '姿勢', '大切', '自身', '成長', 'ため', '常に', '最新', 'デジタル', 'テクノロジー', '活用', 'こと', 'デジタル', 'コンサルタント', '職', '志望'], [], ['最先端', 'デジタル技術', '専門', '性', 'それ', '課題', '解決', '新た', '価値', '創造', '私', 'ゼミ', '研究', 'IoT', 'AI', '最先端', 'デジタル技術', '今後', '社会', '非常', '可能', '性', 'こと', '関心', 'ため', 'デジタル技術', '専門', '性', '顧客', '課題', '解決', '新しい', '社会', '変革', '寄与'], [], ['私', 'デジタル', 'コンサルタント', '一', '志望', '職種', '理由', '私', '貴社', '実現', 'こと', '最適', '職種', '私', '企業', '激しく', '変化', '時代', '対応', 'ため', 'デジタル', '化', '必須', 'ため', '最先端', 'デジタル', '幅広く', '高度', '知見', '常に', 'それら', '応用', '必要', 'それ', '同時に', '普遍', '的', '方法', '論', '身', '顧客', '新た', '価値', '提供'], [], ['顧客', 'テクノロジー', '何', 'コンサルタント', '昨今', '社会', '情勢', 'テクノロジー', '活用', 'ＤＸ', '化', '推進', '私', 'あまりに', '推進', 'テクノロジー', '手段', '目的', '危惧', '中', '顧客', 'テクノロジー', '何', '実現', 'の', '何', '必要', 'の', 'コンサルタント'], [], ['自身', '研究', '無限', '可能', '性', '実感', 'IT', '技術', '課題', '解決', 'こと', 'これから', '時代', '業界', '業種', 'IT', '無視', 'こと', 'IT', '経営', '視点', 'プロフェッショナル', '様々', '企業', '新た', '価値', '創出'], [], ['プロジェクト', 'ごと', '幅広い', '分野', '知識', '身', 'こと', 'クライアント', '課題', '解決', '成長', 'デジタル', 'コンサルタント', '大学', '大学院', 'これ', 'データ', '収集', '分析', 'スキル', '⽣', 'こと', '自分', '強み', '分野', '企業', '機関', 'DX', '不安', '解消', 'DX', 'プロセス', '包括', '的', '⽀援', '社会', '存在'], [], ['デジタル', 'コンサルタント', '志望', '理由', '2', '1', '目', '専門', '性', '身', '私', '就活', '軸', '1', '自分', '専門', '性', 'うえ', 'お客様', 'コンサルタント', 'プロジェクト', '遂行', '2', '目', '挑戦', '常に', '進化', 'テクノロジー', 'こと', '常に', '新しい', 'こと', '挑戦', 'こと', '自身', '知的', '好奇', '心', '強い', 'こと', '挑戦', 'こと', '魅力'], [], ['1', '1', 'クライアント', '企業', '関わり', '深く', '長期', '的', 'やりがい', '大きく', '自分', '自身', '愛着', '責任', '仕事', 'そう', '常に', '最先端', '技術', '駆使', '最新', '提案', 'ところ', '常に', '好奇', '心', '探究', '心', '仕事', 'そう', '魅力', '前例', 'の', '前例', '常に', '挑戦', '環境', '身'], [], ['最新', 'テクノロジー', 'クライアント', '貢献', '今後', 'さらに', 'デジタル', '多様', '化', 'こと', '技術', '手', '膨大', 'さ', '最適', 'の', '難しい', '問題', 'デジタル', 'コンサルタント', 'クライアント', '経営', 'デジタル', '側面', 'サポート', '貴社', '貢献']]\n"
          ]
        }
      ]
    },
    {
      "cell_type": "markdown",
      "metadata": {
        "id": "iK2e2pYWN9ma"
      },
      "source": [
        "### 1.4. 辞書構築\n",
        "コーパス（文書データ）に登場する単語にユニークなIDを振るために辞書を構築します。\n",
        "\n",
        "全ての単語を辞書に登録するとしばしば語彙数が膨大(1万〜100万)になりメモリが足りなくなることがあるので、\n",
        "\n",
        "単語の出現頻度で足切りして辞書のサイズを制限するということをします。\n",
        "\n",
        "NLPではほぼ必ず必要になる手順です。"
      ]
    },
    {
      "cell_type": "code",
      "metadata": {
        "id": "O0qBEvQzwTbZ"
      },
      "source": [
        "class Vocab(object):\n",
        "    def __init__(self, word2id={}):\n",
        "        \"\"\"\n",
        "        word2id: 単語(str)をインデックス(int)に変換する辞書\n",
        "        id2word: インデックス(int)を単語(str)に変換する辞書\n",
        "        \"\"\"\n",
        "        self.word2id = dict(word2id)\n",
        "        self.id2word = {v: k for k, v in self.word2id.items()}    \n",
        "        \n",
        "    def build_vocab(self, sentences, min_count=3):\n",
        "        # 各単語の出現回数の辞書を作成する\n",
        "        word_counter = {}\n",
        "        for sentence in sentences:\n",
        "            for word in sentence:\n",
        "                word_counter[word] = word_counter.get(word, 0) + 1\n",
        "\n",
        "        # min_count回以上出現する単語のみ語彙に加える\n",
        "        for word, count in sorted(word_counter.items(), key=lambda x: -x[1]):\n",
        "            if count < min_count:\n",
        "                break\n",
        "            _id = len(self.word2id)\n",
        "            self.word2id.setdefault(word, _id)\n",
        "            self.id2word[_id] = word \n",
        "\n"
      ],
      "execution_count": 9,
      "outputs": []
    },
    {
      "cell_type": "code",
      "source": [
        "#単語の数カウンと\n",
        "sen = []\n",
        "for row in range(len(text)):\n",
        "    for col in range(len(text[row])):\n",
        "        sen.append(text[row][col])\n",
        "\n",
        "\n",
        "print(sen)"
      ],
      "metadata": {
        "colab": {
          "base_uri": "https://localhost:8080/"
        },
        "id": "uI2pd9X3ZAwV",
        "outputId": "0f00c2e6-8283-4a88-fa88-75eb4a37db44"
      },
      "execution_count": 10,
      "outputs": [
        {
          "output_type": "stream",
          "name": "stdout",
          "text": [
            "['デジタル', 'コンサルタント', '職', '常に', '最新', 'デジタル', 'テクノロジー', '活用', 'こと', '私', '大学', '情報', '系', '主', 'それら', '魅力', '今後', '可能', '性', 'これから', '社会', '人', '上', '常に', '新しい', '技術', '姿勢', '大切', '自身', '成長', 'ため', '常に', '最新', 'デジタル', 'テクノロジー', '活用', 'こと', 'デジタル', 'コンサルタント', '職', '志望', '最先端', 'デジタル技術', '専門', '性', 'それ', '課題', '解決', '新た', '価値', '創造', '私', 'ゼミ', '研究', 'IoT', 'AI', '最先端', 'デジタル技術', '今後', '社会', '非常', '可能', '性', 'こと', '関心', 'ため', 'デジタル技術', '専門', '性', '顧客', '課題', '解決', '新しい', '社会', '変革', '寄与', '私', 'デジタル', 'コンサルタント', '一', '志望', '職種', '理由', '私', '貴社', '実現', 'こと', '最適', '職種', '私', '企業', '激しく', '変化', '時代', '対応', 'ため', 'デジタル', '化', '必須', 'ため', '最先端', 'デジタル', '幅広く', '高度', '知見', '常に', 'それら', '応用', '必要', 'それ', '同時に', '普遍', '的', '方法', '論', '身', '顧客', '新た', '価値', '提供', '顧客', 'テクノロジー', '何', 'コンサルタント', '昨今', '社会', '情勢', 'テクノロジー', '活用', 'ＤＸ', '化', '推進', '私', 'あまりに', '推進', 'テクノロジー', '手段', '目的', '危惧', '中', '顧客', 'テクノロジー', '何', '実現', 'の', '何', '必要', 'の', 'コンサルタント', '自身', '研究', '無限', '可能', '性', '実感', 'IT', '技術', '課題', '解決', 'こと', 'これから', '時代', '業界', '業種', 'IT', '無視', 'こと', 'IT', '経営', '視点', 'プロフェッショナル', '様々', '企業', '新た', '価値', '創出', 'プロジェクト', 'ごと', '幅広い', '分野', '知識', '身', 'こと', 'クライアント', '課題', '解決', '成長', 'デジタル', 'コンサルタント', '大学', '大学院', 'これ', 'データ', '収集', '分析', 'スキル', '⽣', 'こと', '自分', '強み', '分野', '企業', '機関', 'DX', '不安', '解消', 'DX', 'プロセス', '包括', '的', '⽀援', '社会', '存在', 'デジタル', 'コンサルタント', '志望', '理由', '2', '1', '目', '専門', '性', '身', '私', '就活', '軸', '1', '自分', '専門', '性', 'うえ', 'お客様', 'コンサルタント', 'プロジェクト', '遂行', '2', '目', '挑戦', '常に', '進化', 'テクノロジー', 'こと', '常に', '新しい', 'こと', '挑戦', 'こと', '自身', '知的', '好奇', '心', '強い', 'こと', '挑戦', 'こと', '魅力', '1', '1', 'クライアント', '企業', '関わり', '深く', '長期', '的', 'やりがい', '大きく', '自分', '自身', '愛着', '責任', '仕事', 'そう', '常に', '最先端', '技術', '駆使', '最新', '提案', 'ところ', '常に', '好奇', '心', '探究', '心', '仕事', 'そう', '魅力', '前例', 'の', '前例', '常に', '挑戦', '環境', '身', '最新', 'テクノロジー', 'クライアント', '貢献', '今後', 'さらに', 'デジタル', '多様', '化', 'こと', '技術', '手', '膨大', 'さ', '最適', 'の', '難しい', '問題', 'デジタル', 'コンサルタント', 'クライアント', '経営', 'デジタル', '側面', 'サポート', '貴社', '貢献']\n"
          ]
        }
      ]
    },
    {
      "cell_type": "code",
      "source": [
        "import collections\n",
        "c = collections.Counter(sen)\n",
        "print(c.most_common(20))"
      ],
      "metadata": {
        "colab": {
          "base_uri": "https://localhost:8080/"
        },
        "id": "rjA2xObujOId",
        "outputId": "83c4ee43-5bce-4a5c-a0ef-df23f4243ee0"
      },
      "execution_count": 13,
      "outputs": [
        {
          "output_type": "stream",
          "name": "stdout",
          "text": [
            "[('こと', 14), ('デジタル', 12), ('コンサルタント', 9), ('常に', 9), ('テクノロジー', 8), ('私', 7), ('性', 7), ('社会', 5), ('最新', 4), ('技術', 4), ('自身', 4), ('ため', 4), ('最先端', 4), ('専門', 4), ('課題', 4), ('解決', 4), ('顧客', 4), ('企業', 4), ('身', 4), ('の', 4)]\n"
          ]
        }
      ]
    },
    {
      "cell_type": "code",
      "source": [
        "import seaborn as sns\n",
        "import japanize_matplotlib\n",
        "import matplotlib.pyplot as plt\n",
        " \n",
        "sns.set(context=\"notebook\",font='IPAexGothic')\n",
        "fig = plt.subplots(figsize=(8, 8))\n",
        " \n",
        "plt.ylabel(\"単語\")\n",
        "sns.countplot(y=sen,order=[i[0] for i in c.most_common(20)])"
      ],
      "metadata": {
        "colab": {
          "base_uri": "https://localhost:8080/",
          "height": 519
        },
        "id": "UWwmM5Q5UpHi",
        "outputId": "e21de3f8-99c6-4ebb-f199-a6da44397d01"
      },
      "execution_count": 14,
      "outputs": [
        {
          "output_type": "execute_result",
          "data": {
            "text/plain": [
              "<matplotlib.axes._subplots.AxesSubplot at 0x7fa3161a3cd0>"
            ]
          },
          "metadata": {},
          "execution_count": 14
        },
        {
          "output_type": "display_data",
          "data": {
            "text/plain": [
              "<Figure size 576x576 with 1 Axes>"
            ],
            "image/png": "[encoded data removed]"
          },
          "metadata": {}
        }
      ]
    },
    {
      "cell_type": "code",
      "source": [
        "print(sen)\n",
        "print(text)"
      ],
      "metadata": {
        "id": "RrezhGwuU1zg",
        "outputId": "5b51f76b-7871-4412-881f-c3db87a89945",
        "colab": {
          "base_uri": "https://localhost:8080/"
        }
      },
      "execution_count": null,
      "outputs": [
        {
          "output_type": "stream",
          "name": "stdout",
          "text": [
            "['デジタル', 'コンサルタント', '職', '常に', '最新', 'デジタル', 'テクノロジー', '活用', 'こと', '私', '大学', '情報', '系', '主', 'それら', '魅力', '今後', '可能', '性', 'これから', '社会', '人', '上', '常に', '新しい', '技術', '姿勢', '大切', '自身', '成長', 'ため', '常に', '最新', 'デジタル', 'テクノロジー', '活用', 'こと', 'デジタル', 'コンサルタント', '職', '志望', '最先端', 'デジタル技術', '専門', '性', 'それ', '課題', '解決', '新た', '価値', '創造', '私', 'ゼミ', '研究', 'IoT', 'AI', '最先端', 'デジタル技術', '今後', '社会', '非常', '可能', '性', 'こと', '関心', 'ため', 'デジタル技術', '専門', '性', '顧客', '課題', '解決', '新しい', '社会', '変革', '寄与', '私', 'デジタル', 'コンサルタント', '一', '志望', '職種', '理由', '私', '貴社', '実現', 'こと', '最適', '職種', '私', '企業', '激しく', '変化', '時代', '対応', 'ため', 'デジタル', '化', '必須', 'ため', '最先端', 'デジタル', '幅広く', '高度', '知見', '常に', 'それら', '応用', '必要', 'それ', '同時に', '普遍', '的', '方法', '論', '身', '顧客', '新た', '価値', '提供', '顧客', 'テクノロジー', '何', 'コンサルタント', '昨今', '社会', '情勢', 'テクノロジー', '活用', 'ＤＸ', '化', '推進', '私', 'あまりに', '推進', 'テクノロジー', '手段', '目的', '危惧', '中', '顧客', 'テクノロジー', '何', '実現', 'の', '何', '必要', 'の', 'コンサルタント', '自身', '研究', '無限', '可能', '性', '実感', 'IT', '技術', '課題', '解決', 'こと', 'これから', '時代', '業界', '業種', 'IT', '無視', 'こと', 'IT', '経営', '視点', 'プロフェッショナル', '様々', '企業', '新た', '価値', '創出', 'プロジェクト', 'ごと', '幅広い', '分野', '知識', '身', 'こと', 'クライアント', '課題', '解決', '成長', 'デジタル', 'コンサルタント', '大学', '大学院', 'これ', 'データ', '収集', '分析', 'スキル', '⽣', 'こと', '自分', '強み', '分野', '企業', '機関', 'DX', '不安', '解消', 'DX', 'プロセス', '包括', '的', '⽀援', '社会', '存在', 'デジタル', 'コンサルタント', '志望', '理由', '2', '1', '目', '専門', '性', '身', '私', '就活', '軸', '1', '自分', '専門', '性', 'うえ', 'お客様', 'コンサルタント', 'プロジェクト', '遂行', '2', '目', '挑戦', '常に', '進化', 'テクノロジー', 'こと', '常に', '新しい', 'こと', '挑戦', 'こと', '自身', '知的', '好奇', '心', '強い', 'こと', '挑戦', 'こと', '魅力', '1', '1', 'クライアント', '企業', '関わり', '深く', '長期', '的', 'やりがい', '大きく', '自分', '自身', '愛着', '責任', '仕事', 'そう', '常に', '最先端', '技術', '駆使', '最新', '提案', 'ところ', '常に', '好奇', '心', '探究', '心', '仕事', 'そう', '魅力', '前例', 'の', '前例', '常に', '挑戦', '環境', '身', '最新', 'テクノロジー', 'クライアント', '貢献', '今後', 'さらに', 'デジタル', '多様', '化', 'こと', '技術', '手', '膨大', 'さ', '最適', 'の', '難しい', '問題', 'デジタル', 'コンサルタント', 'クライアント', '経営', 'デジタル', '側面', 'サポート', '貴社', '貢献']\n",
            "[['デジタル', 'コンサルタント', '職', '常に', '最新', 'デジタル', 'テクノロジー', '活用', 'こと', '私', '大学', '情報', '系', '主', 'それら', '魅力', '今後', '可能', '性', 'これから', '社会', '人', '上', '常に', '新しい', '技術', '姿勢', '大切', '自身', '成長', 'ため', '常に', '最新', 'デジタル', 'テクノロジー', '活用', 'こと', 'デジタル', 'コンサルタント', '職', '志望'], [], ['最先端', 'デジタル技術', '専門', '性', 'それ', '課題', '解決', '新た', '価値', '創造', '私', 'ゼミ', '研究', 'IoT', 'AI', '最先端', 'デジタル技術', '今後', '社会', '非常', '可能', '性', 'こと', '関心', 'ため', 'デジタル技術', '専門', '性', '顧客', '課題', '解決', '新しい', '社会', '変革', '寄与'], [], ['私', 'デジタル', 'コンサルタント', '一', '志望', '職種', '理由', '私', '貴社', '実現', 'こと', '最適', '職種', '私', '企業', '激しく', '変化', '時代', '対応', 'ため', 'デジタル', '化', '必須', 'ため', '最先端', 'デジタル', '幅広く', '高度', '知見', '常に', 'それら', '応用', '必要', 'それ', '同時に', '普遍', '的', '方法', '論', '身', '顧客', '新た', '価値', '提供'], [], ['顧客', 'テクノロジー', '何', 'コンサルタント', '昨今', '社会', '情勢', 'テクノロジー', '活用', 'ＤＸ', '化', '推進', '私', 'あまりに', '推進', 'テクノロジー', '手段', '目的', '危惧', '中', '顧客', 'テクノロジー', '何', '実現', 'の', '何', '必要', 'の', 'コンサルタント'], [], ['自身', '研究', '無限', '可能', '性', '実感', 'IT', '技術', '課題', '解決', 'こと', 'これから', '時代', '業界', '業種', 'IT', '無視', 'こと', 'IT', '経営', '視点', 'プロフェッショナル', '様々', '企業', '新た', '価値', '創出'], [], ['プロジェクト', 'ごと', '幅広い', '分野', '知識', '身', 'こと', 'クライアント', '課題', '解決', '成長', 'デジタル', 'コンサルタント', '大学', '大学院', 'これ', 'データ', '収集', '分析', 'スキル', '⽣', 'こと', '自分', '強み', '分野', '企業', '機関', 'DX', '不安', '解消', 'DX', 'プロセス', '包括', '的', '⽀援', '社会', '存在'], [], ['デジタル', 'コンサルタント', '志望', '理由', '2', '1', '目', '専門', '性', '身', '私', '就活', '軸', '1', '自分', '専門', '性', 'うえ', 'お客様', 'コンサルタント', 'プロジェクト', '遂行', '2', '目', '挑戦', '常に', '進化', 'テクノロジー', 'こと', '常に', '新しい', 'こと', '挑戦', 'こと', '自身', '知的', '好奇', '心', '強い', 'こと', '挑戦', 'こと', '魅力'], [], ['1', '1', 'クライアント', '企業', '関わり', '深く', '長期', '的', 'やりがい', '大きく', '自分', '自身', '愛着', '責任', '仕事', 'そう', '常に', '最先端', '技術', '駆使', '最新', '提案', 'ところ', '常に', '好奇', '心', '探究', '心', '仕事', 'そう', '魅力', '前例', 'の', '前例', '常に', '挑戦', '環境', '身'], [], ['最新', 'テクノロジー', 'クライアント', '貢献', '今後', 'さらに', 'デジタル', '多様', '化', 'こと', '技術', '手', '膨大', 'さ', '最適', 'の', '難しい', '問題', 'デジタル', 'コンサルタント', 'クライアント', '経営', 'デジタル', '側面', 'サポート', '貴社', '貢献']]\n"
          ]
        }
      ]
    },
    {
      "cell_type": "code",
      "source": [
        "from wordcloud import WordCloud\n",
        "\n",
        "cloud_data = c\n",
        "\n",
        "fpath = \"NotoSansJP-Regular.otf\"\n",
        "cloud = WordCloud(font_path=fpath,background_color='white',width=600,height=400,min_font_size=15).fit_words(cloud_data)\n",
        "\n",
        "plt.imshow(cloud)\n",
        "plt.axis('off')\n",
        "plt.show()\n",
        "\n"
      ],
      "metadata": {
        "id": "HvSRnkuSS4aK",
        "outputId": "85adcf1e-f6d6-4dfb-d6a7-2fcb03dad10c",
        "colab": {
          "base_uri": "https://localhost:8080/",
          "height": 248
        }
      },
      "execution_count": 15,
      "outputs": [
        {
          "output_type": "display_data",
          "data": {
            "text/plain": [
              "<Figure size 432x288 with 1 Axes>"
            ],
            "image/png": "[encoded data removed]"
          },
          "metadata": {}
        }
      ]
    },
    {
      "cell_type": "markdown",
      "source": [
        "## ID辞書生成\n"
      ],
      "metadata": {
        "id": "WwV2ql5BNrlf"
      }
    },
    {
      "cell_type": "code",
      "metadata": {
        "id": "RyX3FFe0KzVK"
      },
      "source": [
        "# 特殊なトークンとそのIDは事前に定義しておきます。\n",
        "PAD_TOKEN = '<PAD>' # あとで説明するpaddingに使います\n",
        "UNK_TOKEN = '<UNK>' # 辞書にない単語は全てこのUNKトークンに置き換えます。(UNKの由来はunkownです)\n",
        "PAD = 0 # <PAD>のID\n",
        "UNK = 1 # <UNK>のID"
      ],
      "execution_count": null,
      "outputs": []
    },
    {
      "cell_type": "code",
      "metadata": {
        "id": "LNXoxMdoKzVM"
      },
      "source": [
        "# 辞書の初期化\n",
        "word2id = {\n",
        "    PAD_TOKEN: PAD,\n",
        "    UNK_TOKEN: UNK,\n",
        "}\n",
        "\n",
        "# 辞書に含める単語の最低出現回数\n",
        "# 今回はコーパスのサイズが小さいので、全ての単語を辞書に含めることにします\n",
        "MIN_COUNT = 1"
      ],
      "execution_count": null,
      "outputs": []
    },
    {
      "cell_type": "code",
      "source": [
        "vocab = Vocab(word2id=word2id)\n",
        "vocab.build_vocab(text, min_count=MIN_COUNT)"
      ],
      "metadata": {
        "id": "DpK08CIfdbjf"
      },
      "execution_count": null,
      "outputs": []
    },
    {
      "cell_type": "code",
      "source": [
        "def sentence_to_ids(vocab, sen):\n",
        "    \"\"\"\n",
        "    単語のリストをIDのリストに変換する関数\n",
        "\n",
        "    :param vocab: class `Vocab` object\n",
        "    :param sen: list of str, 文を分かち書きして得られた単語のリスト\n",
        "    :return out: list of int, 単語IDのリスト\n",
        "    \"\"\"\n",
        "    out = [vocab.word2id.get(word, UNK) for word in sen] # 辞書にない単語にはUNKのIDを割り振ります\n",
        "    return out"
      ],
      "metadata": {
        "id": "pX2NTXpbbuxQ"
      },
      "execution_count": null,
      "outputs": []
    },
    {
      "cell_type": "code",
      "source": [
        "id_text = [sentence_to_ids(vocab, sen) for sen in text]"
      ],
      "metadata": {
        "id": "oO2kWRUbbv4Z"
      },
      "execution_count": null,
      "outputs": []
    },
    {
      "cell_type": "code",
      "source": [
        "def pad_seq(seq, max_length):\n",
        "    \"\"\"Paddingを行う関数\n",
        "\n",
        "    :param seq: list of int, 単語のインデックスのリスト\n",
        "    :param max_length: int, バッチ内の系列の最大長\n",
        "    :return seq: list of int, 単語のインデックスのリスト\n",
        "    \"\"\"\n",
        "    seq += [PAD for i in range(max_length - len(seq))]\n",
        "    return seq"
      ],
      "metadata": {
        "id": "w4Vl3Irhdod5"
      },
      "execution_count": null,
      "outputs": []
    },
    {
      "cell_type": "markdown",
      "source": [
        "## SkipgramによるWord2Vec\n"
      ],
      "metadata": {
        "id": "k1H7C3P0fIAn"
      }
    },
    {
      "cell_type": "code",
      "metadata": {
        "id": "Rh--IT7xKzVk"
      },
      "source": [
        "class DataLoaderSG(object):\n",
        "    \"\"\"Skipgramのためのデータローダー\"\"\"\n",
        "    def __init__(self, text, batch_size, window=3):\n",
        "        \"\"\"\n",
        "        :param text: list of list of int, 単語をIDに変換したデータセット\n",
        "        :param batch_size: int, ミニバッチのサイズ\n",
        "        :param window: int, 周辺単語と入力単語の最大距離\n",
        "        \"\"\"\n",
        "        self.text = text\n",
        "        self.batch_size = batch_size\n",
        "        self.window = window\n",
        "        self.s_pointer = 0 # データセット上を走査する文単位のポインタ\n",
        "        self.w_pointer = 0 # データセット上を走査する単語単位のポインタ\n",
        "        self.max_s_pointer = len(text) # データセットに含まれる文の総数\n",
        "\n",
        "    def __iter__(self):\n",
        "        return self\n",
        "\n",
        "    def __next__(self):\n",
        "        batch_X = []\n",
        "        batch_Y = []\n",
        "\n",
        "        while len(batch_X) < self.batch_size:\n",
        "            sen = self.text[self.s_pointer]\n",
        "            \n",
        "            # Skipgramでは入力が1単語\n",
        "            word_X = sen[self.w_pointer]\n",
        "\n",
        "            # 出力は周辺単語\n",
        "            start = max(0, self.w_pointer - self.window)\n",
        "            word_Y = sen[start:self.w_pointer] + \\\n",
        "                sen[self.w_pointer + 1:self.w_pointer + self.window + 1]\n",
        "            word_Y = pad_seq(word_Y, self.window * 2)\n",
        "\n",
        "            batch_X.append(word_X)\n",
        "            batch_Y.append(word_Y)\n",
        "            self.w_pointer += 1\n",
        "\n",
        "            if self.w_pointer >= len(sen):\n",
        "                self.w_pointer = 0\n",
        "                self.s_pointer += 1\n",
        "                if self.s_pointer >= self.max_s_pointer:\n",
        "                    self.s_pointer = 0\n",
        "                    raise StopIteration\n",
        "\n",
        "        batch_X = torch.tensor(batch_X, dtype=torch.long, device=device)\n",
        "        batch_Y = torch.tensor(batch_Y, dtype=torch.long, device=device)\n",
        "\n",
        "        return batch_X, batch_Y"
      ],
      "execution_count": null,
      "outputs": []
    },
    {
      "cell_type": "code",
      "source": [
        "class Skipgram(nn.Module):\n",
        "    def __init__(self, vocab_size, embedding_size):\n",
        "        \"\"\"\n",
        "        :param vocab_size: int, 語彙の総数\n",
        "        :param embedding_size: int, 単語埋め込みベクトルの次元\n",
        "        \"\"\"\n",
        "        super(Skipgram, self).__init__()\n",
        "        self.vocab_size = vocab_size\n",
        "        self.embedding_size = embedding_size\n",
        "\n",
        "        self.embedding = nn.Embedding(self.vocab_size, self.embedding_size)\n",
        "        self.linear = nn.Linear(self.embedding_size, self.vocab_size, bias=False)\n",
        "\n",
        "    def forward(self, batch_X, batch_Y):\n",
        "        \"\"\"\n",
        "        :param batch_X: torch.Tensor(dtype=torch.long), (batch_size,)\n",
        "        :param batch_Y: torch.Tensor(dtype=torch.long), (batch_size, window*2)\n",
        "        :return loss: torch.Tensor(dtype=torch.float), Skipgramのloss\n",
        "        \"\"\"\n",
        "        emb_X = self.embedding(batch_X) # (batch_size, embedding_size)\n",
        "        lin_X = self.linear(emb_X) # (batch_size, vocab_size)\n",
        "        log_prob_X = F.log_softmax(lin_X, dim=-1) # (batch_size, vocab_size)\n",
        "        log_prob_X = torch.gather(log_prob_X, 1, batch_Y) # (batch_size, window*2)\n",
        "        # paddingした単語のlossは計算しないようにマスクをかけます(=lossの該当部分を0にします)\n",
        "        log_prob_X = log_prob_X * (batch_Y != PAD).float() # (batch_size, window*2)\n",
        "        loss = log_prob_X.sum(1).mean().neg()\n",
        "        return loss"
      ],
      "metadata": {
        "id": "pisd7P0ym5Cr"
      },
      "execution_count": null,
      "outputs": []
    },
    {
      "cell_type": "code",
      "source": [
        "# Hyper Parameters\n",
        "batch_size = 5 # ミニバッチのサイズ\n",
        "n_batches = 5 # 今回学習するミニバッチの数\n",
        "vocab_size = len(vocab.word2id) # 語彙の総数\n",
        "embedding_size = 5 # 各単語に割り当てるベクトルの次元数"
      ],
      "metadata": {
        "id": "P34B-JttnZL1"
      },
      "execution_count": null,
      "outputs": []
    },
    {
      "cell_type": "code",
      "source": [
        "sg = Skipgram(vocab_size, embedding_size).to(device)\n",
        "optimizer_sg = optim.Adam(sg.parameters())\n",
        "dataloader_sg = DataLoaderSG(id_text, batch_size)"
      ],
      "metadata": {
        "id": "aDfzszClm-IO"
      },
      "execution_count": null,
      "outputs": []
    },
    {
      "cell_type": "code",
      "source": [
        "start_at = time.time()\n",
        "for batch_id, (batch_X, batch_Y) in enumerate(dataloader_sg):\n",
        "    loss = compute_loss(sg, (batch_X, batch_Y), optimizer=optimizer_sg, is_train=True)\n",
        "    if batch_id % 100 == 0:\n",
        "        print(\"batch:{}, loss:{:.4f}\".format(batch_id, loss))\n",
        "    if batch_id >= n_batches:\n",
        "        break\n",
        "end_at = time.time()\n",
        "print(\"Elapsed time: {:.2f} [sec]\".format(end_at - start_at))"
      ],
      "metadata": {
        "id": "FZVPWWuBnC7B"
      },
      "execution_count": null,
      "outputs": []
    }
  ]
}