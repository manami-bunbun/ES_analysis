{
  "nbformat": 4,
  "nbformat_minor": 0,
  "metadata": {
    "kernelspec": {
      "display_name": "Python 3",
      "language": "python",
      "name": "python3"
    },
    "language_info": {
      "codemirror_mode": {
        "name": "ipython",
        "version": 3
      },
      "file_extension": ".py",
      "mimetype": "text/x-python",
      "name": "python",
      "nbconvert_exporter": "python",
      "pygments_lexer": "ipython3",
      "version": "3.6.10"
    },
    "colab": {
      "name": "ES_analysis.ipynb ",
      "provenance": [],
      "collapsed_sections": [],
      "include_colab_link": true
    },
    "accelerator": "GPU"
  },
  "cells": [
    {
      "cell_type": "markdown",
      "metadata": {
        "id": "view-in-github",
        "colab_type": "text"
      },
      "source": [
        "<a href=\"https://colab.research.google.com/github/manami-bunbun/ES_analysis/blob/main/ES_analysis.ipynb\" target=\"_parent\"><img src=\"https://colab.research.google.com/assets/colab-badge.svg\" alt=\"Open In Colab\"/></a>"
      ]
    },
    {
      "cell_type": "markdown",
      "metadata": {
        "id": "TTujjY6OtLiW"
      },
      "source": [
        "# 就職活動ES"
      ]
    },
    {
      "cell_type": "markdown",
      "source": [
        "### テキストファイル読み込み"
      ],
      "metadata": {
        "id": "DGLMlWixQR6C"
      }
    },
    {
      "cell_type": "markdown",
      "source": [
        "### インストール"
      ],
      "metadata": {
        "id": "GIB5WkEkQh3J"
      }
    },
    {
      "cell_type": "code",
      "metadata": {
        "id": "0nv0o2QEOYaj",
        "colab": {
          "base_uri": "https://localhost:8080/"
        },
        "outputId": "e39d5241-1b83-4c96-8cb4-b9619317bcd1"
      },
      "source": [
        "!apt-get -q -y install swig \n",
        "!apt-get install mecab\n",
        "!apt-get install libmecab-dev\n",
        "!apt-get install mecab-ipadic-utf8\n",
        "!pip install mecab-python3==0.996.5\n",
        "!pip install unidic-lite"
      ],
      "execution_count": 26,
      "outputs": [
        {
          "output_type": "stream",
          "name": "stdout",
          "text": [
            "Reading package lists...\n",
            "Building dependency tree...\n",
            "Reading state information...\n",
            "The following additional packages will be installed:\n",
            "  swig3.0\n",
            "Suggested packages:\n",
            "  swig-doc swig-examples swig3.0-examples swig3.0-doc\n",
            "The following NEW packages will be installed:\n",
            "  swig swig3.0\n",
            "0 upgraded, 2 newly installed, 0 to remove and 39 not upgraded.\n",
            "Need to get 1,100 kB of archives.\n",
            "After this operation, 5,822 kB of additional disk space will be used.\n",
            "Get:1 http://archive.ubuntu.com/ubuntu bionic/universe amd64 swig3.0 amd64 3.0.12-1 [1,094 kB]\n",
            "Get:2 http://archive.ubuntu.com/ubuntu bionic/universe amd64 swig amd64 3.0.12-1 [6,460 B]\n",
            "Fetched 1,100 kB in 0s (10.6 MB/s)\n",
            "Selecting previously unselected package swig3.0.\n",
            "(Reading database ... 156210 files and directories currently installed.)\n",
            "Preparing to unpack .../swig3.0_3.0.12-1_amd64.deb ...\n",
            "Unpacking swig3.0 (3.0.12-1) ...\n",
            "Selecting previously unselected package swig.\n",
            "Preparing to unpack .../swig_3.0.12-1_amd64.deb ...\n",
            "Unpacking swig (3.0.12-1) ...\n",
            "Setting up swig3.0 (3.0.12-1) ...\n",
            "Setting up swig (3.0.12-1) ...\n",
            "Processing triggers for man-db (2.8.3-2ubuntu0.1) ...\n",
            "Reading package lists... Done\n",
            "Building dependency tree       \n",
            "Reading state information... Done\n",
            "The following additional packages will be installed:\n",
            "  libmecab2 mecab-jumandic mecab-jumandic-utf8 mecab-utils\n",
            "The following NEW packages will be installed:\n",
            "  libmecab2 mecab mecab-jumandic mecab-jumandic-utf8 mecab-utils\n",
            "0 upgraded, 5 newly installed, 0 to remove and 39 not upgraded.\n",
            "Need to get 16.5 MB of archives.\n",
            "After this operation, 219 MB of additional disk space will be used.\n",
            "Get:1 http://archive.ubuntu.com/ubuntu bionic/universe amd64 libmecab2 amd64 0.996-5 [257 kB]\n",
            "Get:2 http://archive.ubuntu.com/ubuntu bionic/universe amd64 mecab-utils amd64 0.996-5 [4,856 B]\n",
            "Get:3 http://archive.ubuntu.com/ubuntu bionic/universe amd64 mecab-jumandic-utf8 all 7.0-20130310-4 [16.2 MB]\n",
            "Get:4 http://archive.ubuntu.com/ubuntu bionic/universe amd64 mecab-jumandic all 7.0-20130310-4 [2,212 B]\n",
            "Get:5 http://archive.ubuntu.com/ubuntu bionic/universe amd64 mecab amd64 0.996-5 [132 kB]\n",
            "Fetched 16.5 MB in 0s (52.3 MB/s)\n",
            "Selecting previously unselected package libmecab2:amd64.\n",
            "(Reading database ... 157001 files and directories currently installed.)\n",
            "Preparing to unpack .../libmecab2_0.996-5_amd64.deb ...\n",
            "Unpacking libmecab2:amd64 (0.996-5) ...\n",
            "Selecting previously unselected package mecab-utils.\n",
            "Preparing to unpack .../mecab-utils_0.996-5_amd64.deb ...\n",
            "Unpacking mecab-utils (0.996-5) ...\n",
            "Selecting previously unselected package mecab-jumandic-utf8.\n",
            "Preparing to unpack .../mecab-jumandic-utf8_7.0-20130310-4_all.deb ...\n",
            "Unpacking mecab-jumandic-utf8 (7.0-20130310-4) ...\n",
            "Selecting previously unselected package mecab-jumandic.\n",
            "Preparing to unpack .../mecab-jumandic_7.0-20130310-4_all.deb ...\n",
            "Unpacking mecab-jumandic (7.0-20130310-4) ...\n",
            "Selecting previously unselected package mecab.\n",
            "Preparing to unpack .../mecab_0.996-5_amd64.deb ...\n",
            "Unpacking mecab (0.996-5) ...\n",
            "Setting up libmecab2:amd64 (0.996-5) ...\n",
            "Setting up mecab-utils (0.996-5) ...\n",
            "Setting up mecab-jumandic-utf8 (7.0-20130310-4) ...\n",
            "Compiling Juman dictionary for Mecab.\n",
            "reading /usr/share/mecab/dic/juman/unk.def ... 37\n",
            "emitting double-array: 100% |###########################################| \n",
            "reading /usr/share/mecab/dic/juman/Noun.keishiki.csv ... 8\n",
            "reading /usr/share/mecab/dic/juman/Demonstrative.csv ... 97\n",
            "reading /usr/share/mecab/dic/juman/Postp.csv ... 108\n",
            "reading /usr/share/mecab/dic/juman/AuxV.csv ... 593\n",
            "reading /usr/share/mecab/dic/juman/Rengo.csv ... 1118\n",
            "reading /usr/share/mecab/dic/juman/Assert.csv ... 34\n",
            "reading /usr/share/mecab/dic/juman/Wikipedia.csv ... 167709\n",
            "reading /usr/share/mecab/dic/juman/Auto.csv ... 18931\n",
            "reading /usr/share/mecab/dic/juman/Emoticon.csv ... 972\n",
            "reading /usr/share/mecab/dic/juman/Noun.suusi.csv ... 49\n",
            "reading /usr/share/mecab/dic/juman/Noun.hukusi.csv ... 81\n",
            "reading /usr/share/mecab/dic/juman/Noun.koyuu.csv ... 7964\n",
            "reading /usr/share/mecab/dic/juman/Prefix.csv ... 90\n",
            "reading /usr/share/mecab/dic/juman/ContentW.csv ... 551145\n",
            "reading /usr/share/mecab/dic/juman/Suffix.csv ... 2128\n",
            "reading /usr/share/mecab/dic/juman/Special.csv ... 158\n",
            "emitting double-array: 100% |###########################################| \n",
            "reading /usr/share/mecab/dic/juman/matrix.def ... 1876x1876\n",
            "emitting matrix      : 100% |###########################################| \n",
            "\n",
            "done!\n",
            "update-alternatives: using /var/lib/mecab/dic/juman-utf8 to provide /var/lib/mecab/dic/debian (mecab-dictionary) in auto mode\n",
            "Setting up mecab (0.996-5) ...\n",
            "Setting up mecab-jumandic (7.0-20130310-4) ...\n",
            "Processing triggers for man-db (2.8.3-2ubuntu0.1) ...\n",
            "Processing triggers for libc-bin (2.27-3ubuntu1.3) ...\n",
            "/sbin/ldconfig.real: /usr/local/lib/python3.7/dist-packages/ideep4py/lib/libmkldnn.so.0 is not a symbolic link\n",
            "\n",
            "Reading package lists... Done\n",
            "Building dependency tree       \n",
            "Reading state information... Done\n",
            "The following NEW packages will be installed:\n",
            "  libmecab-dev\n",
            "0 upgraded, 1 newly installed, 0 to remove and 39 not upgraded.\n",
            "Need to get 308 kB of archives.\n",
            "After this operation, 3,132 kB of additional disk space will be used.\n",
            "Get:1 http://archive.ubuntu.com/ubuntu bionic/universe amd64 libmecab-dev amd64 0.996-5 [308 kB]\n",
            "Fetched 308 kB in 0s (4,172 kB/s)\n",
            "Selecting previously unselected package libmecab-dev.\n",
            "(Reading database ... 157126 files and directories currently installed.)\n",
            "Preparing to unpack .../libmecab-dev_0.996-5_amd64.deb ...\n",
            "Unpacking libmecab-dev (0.996-5) ...\n",
            "Setting up libmecab-dev (0.996-5) ...\n",
            "Processing triggers for man-db (2.8.3-2ubuntu0.1) ...\n",
            "Reading package lists... Done\n",
            "Building dependency tree       \n",
            "Reading state information... Done\n",
            "The following additional packages will be installed:\n",
            "  mecab-ipadic\n",
            "The following NEW packages will be installed:\n",
            "  mecab-ipadic mecab-ipadic-utf8\n",
            "0 upgraded, 2 newly installed, 0 to remove and 39 not upgraded.\n",
            "Need to get 12.1 MB of archives.\n",
            "After this operation, 54.4 MB of additional disk space will be used.\n",
            "Get:1 http://archive.ubuntu.com/ubuntu bionic/universe amd64 mecab-ipadic all 2.7.0-20070801+main-1 [12.1 MB]\n",
            "Get:2 http://archive.ubuntu.com/ubuntu bionic/universe amd64 mecab-ipadic-utf8 all 2.7.0-20070801+main-1 [3,522 B]\n",
            "Fetched 12.1 MB in 0s (49.8 MB/s)\n",
            "Selecting previously unselected package mecab-ipadic.\n",
            "(Reading database ... 157134 files and directories currently installed.)\n",
            "Preparing to unpack .../mecab-ipadic_2.7.0-20070801+main-1_all.deb ...\n",
            "Unpacking mecab-ipadic (2.7.0-20070801+main-1) ...\n",
            "Selecting previously unselected package mecab-ipadic-utf8.\n",
            "Preparing to unpack .../mecab-ipadic-utf8_2.7.0-20070801+main-1_all.deb ...\n",
            "Unpacking mecab-ipadic-utf8 (2.7.0-20070801+main-1) ...\n",
            "Setting up mecab-ipadic (2.7.0-20070801+main-1) ...\n",
            "Compiling IPA dictionary for Mecab.  This takes long time...\n",
            "reading /usr/share/mecab/dic/ipadic/unk.def ... 40\n",
            "emitting double-array: 100% |###########################################| \n",
            "/usr/share/mecab/dic/ipadic/model.def is not found. skipped.\n",
            "reading /usr/share/mecab/dic/ipadic/Noun.proper.csv ... 27327\n",
            "reading /usr/share/mecab/dic/ipadic/Adnominal.csv ... 135\n",
            "reading /usr/share/mecab/dic/ipadic/Noun.name.csv ... 34202\n",
            "reading /usr/share/mecab/dic/ipadic/Adj.csv ... 27210\n",
            "reading /usr/share/mecab/dic/ipadic/Noun.number.csv ... 42\n",
            "reading /usr/share/mecab/dic/ipadic/Symbol.csv ... 208\n",
            "reading /usr/share/mecab/dic/ipadic/Noun.csv ... 60477\n",
            "reading /usr/share/mecab/dic/ipadic/Noun.org.csv ... 16668\n",
            "reading /usr/share/mecab/dic/ipadic/Postp.csv ... 146\n",
            "reading /usr/share/mecab/dic/ipadic/Auxil.csv ... 199\n",
            "reading /usr/share/mecab/dic/ipadic/Conjunction.csv ... 171\n",
            "reading /usr/share/mecab/dic/ipadic/Noun.demonst.csv ... 120\n",
            "reading /usr/share/mecab/dic/ipadic/Interjection.csv ... 252\n",
            "reading /usr/share/mecab/dic/ipadic/Noun.nai.csv ... 42\n",
            "reading /usr/share/mecab/dic/ipadic/Others.csv ... 2\n",
            "reading /usr/share/mecab/dic/ipadic/Noun.verbal.csv ... 12146\n",
            "reading /usr/share/mecab/dic/ipadic/Noun.adjv.csv ... 3328\n",
            "reading /usr/share/mecab/dic/ipadic/Prefix.csv ... 221\n",
            "reading /usr/share/mecab/dic/ipadic/Suffix.csv ... 1393\n",
            "reading /usr/share/mecab/dic/ipadic/Verb.csv ... 130750\n",
            "reading /usr/share/mecab/dic/ipadic/Noun.adverbal.csv ... 795\n",
            "reading /usr/share/mecab/dic/ipadic/Noun.others.csv ... 151\n",
            "reading /usr/share/mecab/dic/ipadic/Noun.place.csv ... 72999\n",
            "reading /usr/share/mecab/dic/ipadic/Adverb.csv ... 3032\n",
            "reading /usr/share/mecab/dic/ipadic/Filler.csv ... 19\n",
            "reading /usr/share/mecab/dic/ipadic/Postp-col.csv ... 91\n",
            "emitting double-array: 100% |###########################################| \n",
            "reading /usr/share/mecab/dic/ipadic/matrix.def ... 1316x1316\n",
            "emitting matrix      : 100% |###########################################| \n",
            "\n",
            "done!\n",
            "update-alternatives: using /var/lib/mecab/dic/ipadic to provide /var/lib/mecab/dic/debian (mecab-dictionary) in auto mode\n",
            "Setting up mecab-ipadic-utf8 (2.7.0-20070801+main-1) ...\n",
            "Compiling IPA dictionary for Mecab.  This takes long time...\n",
            "reading /usr/share/mecab/dic/ipadic/unk.def ... 40\n",
            "emitting double-array: 100% |###########################################| \n",
            "/usr/share/mecab/dic/ipadic/model.def is not found. skipped.\n",
            "reading /usr/share/mecab/dic/ipadic/Noun.proper.csv ... 27327\n",
            "reading /usr/share/mecab/dic/ipadic/Adnominal.csv ... 135\n",
            "reading /usr/share/mecab/dic/ipadic/Noun.name.csv ... 34202\n",
            "reading /usr/share/mecab/dic/ipadic/Adj.csv ... 27210\n",
            "reading /usr/share/mecab/dic/ipadic/Noun.number.csv ... 42\n",
            "reading /usr/share/mecab/dic/ipadic/Symbol.csv ... 208\n",
            "reading /usr/share/mecab/dic/ipadic/Noun.csv ... 60477\n",
            "reading /usr/share/mecab/dic/ipadic/Noun.org.csv ... 16668\n",
            "reading /usr/share/mecab/dic/ipadic/Postp.csv ... 146\n",
            "reading /usr/share/mecab/dic/ipadic/Auxil.csv ... 199\n",
            "reading /usr/share/mecab/dic/ipadic/Conjunction.csv ... 171\n",
            "reading /usr/share/mecab/dic/ipadic/Noun.demonst.csv ... 120\n",
            "reading /usr/share/mecab/dic/ipadic/Interjection.csv ... 252\n",
            "reading /usr/share/mecab/dic/ipadic/Noun.nai.csv ... 42\n",
            "reading /usr/share/mecab/dic/ipadic/Others.csv ... 2\n",
            "reading /usr/share/mecab/dic/ipadic/Noun.verbal.csv ... 12146\n",
            "reading /usr/share/mecab/dic/ipadic/Noun.adjv.csv ... 3328\n",
            "reading /usr/share/mecab/dic/ipadic/Prefix.csv ... 221\n",
            "reading /usr/share/mecab/dic/ipadic/Suffix.csv ... 1393\n",
            "reading /usr/share/mecab/dic/ipadic/Verb.csv ... 130750\n",
            "reading /usr/share/mecab/dic/ipadic/Noun.adverbal.csv ... 795\n",
            "reading /usr/share/mecab/dic/ipadic/Noun.others.csv ... 151\n",
            "reading /usr/share/mecab/dic/ipadic/Noun.place.csv ... 72999\n",
            "reading /usr/share/mecab/dic/ipadic/Adverb.csv ... 3032\n",
            "reading /usr/share/mecab/dic/ipadic/Filler.csv ... 19\n",
            "reading /usr/share/mecab/dic/ipadic/Postp-col.csv ... 91\n",
            "emitting double-array: 100% |###########################################| \n",
            "reading /usr/share/mecab/dic/ipadic/matrix.def ... 1316x1316\n",
            "emitting matrix      : 100% |###########################################| \n",
            "\n",
            "done!\n",
            "update-alternatives: using /var/lib/mecab/dic/ipadic-utf8 to provide /var/lib/mecab/dic/debian (mecab-dictionary) in auto mode\n",
            "Collecting mecab-python3==0.996.5\n",
            "  Downloading mecab_python3-0.996.5-cp37-cp37m-manylinux2010_x86_64.whl (17.1 MB)\n",
            "\u001b[K     |████████████████████████████████| 17.1 MB 327 kB/s \n",
            "\u001b[?25hInstalling collected packages: mecab-python3\n",
            "Successfully installed mecab-python3-0.996.5\n",
            "Collecting unidic-lite\n",
            "  Downloading unidic-lite-1.0.8.tar.gz (47.4 MB)\n",
            "\u001b[K     |████████████████████████████████| 47.4 MB 106 kB/s \n",
            "\u001b[?25hBuilding wheels for collected packages: unidic-lite\n",
            "  Building wheel for unidic-lite (setup.py) ... \u001b[?25l\u001b[?25hdone\n",
            "  Created wheel for unidic-lite: filename=unidic_lite-1.0.8-py3-none-any.whl size=47658836 sha256=1fbe00f756602b5f5ec6fb24444ac93343ed26ada1da9f969f10cb780c2d5d8f\n",
            "  Stored in directory: /root/.cache/pip/wheels/de/69/b1/112140b599f2b13f609d485a99e357ba68df194d2079c5b1a2\n",
            "Successfully built unidic-lite\n",
            "Installing collected packages: unidic-lite\n",
            "Successfully installed unidic-lite-1.0.8\n"
          ]
        }
      ]
    },
    {
      "cell_type": "code",
      "metadata": {
        "id": "copmbLQyN9kQ"
      },
      "source": [
        "import MeCab\n",
        "import numpy as np\n",
        "import time\n",
        "\n",
        "import torch\n",
        "import torch.nn as nn\n",
        "import torch.nn.functional as F\n",
        "import torch.optim as optim\n",
        "\n",
        "\n",
        "device = torch.device(\"cuda\" if torch.cuda.is_available() else \"cpu\")"
      ],
      "execution_count": 27,
      "outputs": []
    },
    {
      "cell_type": "markdown",
      "metadata": {
        "id": "7kAj-VkYN9kb"
      },
      "source": [
        "## 1. 前処理"
      ]
    },
    {
      "cell_type": "markdown",
      "metadata": {
        "id": "50DXNKdgN9ki"
      },
      "source": [
        "### 1.1. 形態素解析"
      ]
    },
    {
      "cell_type": "markdown",
      "metadata": {
        "id": "zHGG_8IHN9ki"
      },
      "source": [
        "文などを分割して、言語で意味を持つ最小単位である形態素の列に変換し、その品詞を推定することを形態素解析と呼びます。"
      ]
    },
    {
      "cell_type": "code",
      "metadata": {
        "id": "S1x8GdV0N9ko",
        "colab": {
          "base_uri": "https://localhost:8080/"
        },
        "outputId": "9815617a-3001-4f66-d866-de746990189a"
      },
      "source": [
        "tagger = MeCab.Tagger('-Ochasen')\n",
        "node = tagger.parse(\"デジタルコンサルタント職では、常に最新のデジタルテクノロジーを学び、活用することができるからです。\")\n",
        "print(node)"
      ],
      "execution_count": 42,
      "outputs": [
        {
          "output_type": "stream",
          "name": "stdout",
          "text": [
            "デジタル\tデジタル\tデジタル\t名詞-一般\t\t\n",
            "コンサルタント\tコンサルタント\tコンサルタント\t名詞-一般\t\t\n",
            "職\tショク\t職\t名詞-接尾-一般\t\t\n",
            "で\tデ\tで\t助詞-格助詞-一般\t\t\n",
            "は\tハ\tは\t助詞-係助詞\t\t\n",
            "、\t、\t、\t記号-読点\t\t\n",
            "常に\tツネニ\t常に\t副詞-一般\t\t\n",
            "最新\tサイシン\t最新\t名詞-一般\t\t\n",
            "の\tノ\tの\t助詞-連体化\t\t\n",
            "デジタル\tデジタル\tデジタル\t名詞-一般\t\t\n",
            "テクノロジー\tテクノロジー\tテクノロジー\t名詞-一般\t\t\n",
            "を\tヲ\tを\t助詞-格助詞-一般\t\t\n",
            "学び\tマナビ\t学ぶ\t動詞-自立\t五段・バ行\t連用形\n",
            "、\t、\t、\t記号-読点\t\t\n",
            "活用\tカツヨウ\t活用\t名詞-サ変接続\t\t\n",
            "する\tスル\tする\t動詞-自立\tサ変・スル\t基本形\n",
            "こと\tコト\tこと\t名詞-非自立-一般\t\t\n",
            "が\tガ\tが\t助詞-格助詞-一般\t\t\n",
            "できる\tデキル\tできる\t動詞-自立\t一段\t基本形\n",
            "から\tカラ\tから\t助詞-接続助詞\t\t\n",
            "です\tデス\tです\t助動詞\t特殊・デス\t基本形\n",
            "。\t。\t。\t記号-句点\t\t\n",
            "EOS\n",
            "\n"
          ]
        }
      ]
    },
    {
      "cell_type": "markdown",
      "metadata": {
        "id": "VVEAcDPXN9k9"
      },
      "source": [
        "### 1.2. MeCabを用いて文を形態素に分割"
      ]
    },
    {
      "cell_type": "markdown",
      "metadata": {
        "id": "cZIruviaN9k9"
      },
      "source": [
        "先ほどの形態素解析の結果を用いて、日本語の文を形態素に分割する関数を定義します。"
      ]
    },
    {
      "cell_type": "code",
      "metadata": {
        "id": "YRq6oB8NN9lC"
      },
      "source": [
        "def tokenize(sentence):\n",
        "    \"\"\"日本語の文を形態素の列に分割する関数\n",
        "\n",
        "    :param sentence: str, 日本語の文\n",
        "    :return tokenized_sentence: list of str, 形態素のリスト\n",
        "    \"\"\"\n",
        "    node = tagger.parse(sentence)\n",
        "    node = node.split(\"\\n\")\n",
        "    tokenized_sentence = []\n",
        "    for i in range(len(node)):\n",
        "        feature = node[i].split(\"\\t\")\n",
        "        if feature[0] == \"EOS\":\n",
        "            # 文が終わったら終了\n",
        "            break\n",
        "        elif not(feature[0] == \"、\" or feature[0] == \"。\" or feature[0] == \" \"):\n",
        "        # 分割された形態素を追加\n",
        "           tokenized_sentence.append(feature[0])\n",
        "    return tokenized_sentence"
      ],
      "execution_count": 170,
      "outputs": []
    },
    {
      "cell_type": "code",
      "metadata": {
        "scrolled": true,
        "id": "tDXGBSboN9lR",
        "colab": {
          "base_uri": "https://localhost:8080/"
        },
        "outputId": "58b58444-476e-4ba0-a692-a7139601a7de"
      },
      "source": [
        "tokenize(\"坊主が屏風に上手に坊主の絵を描いた\")"
      ],
      "execution_count": 171,
      "outputs": [
        {
          "output_type": "execute_result",
          "data": {
            "text/plain": [
              "['坊主', 'が', '屏風', 'に', '上手', 'に', '坊主', 'の', '絵', 'を', '描い', 'た']"
            ]
          },
          "metadata": {},
          "execution_count": 171
        }
      ]
    },
    {
      "cell_type": "code",
      "metadata": {
        "id": "JMgedRXHN9lv"
      },
      "source": [
        "def load_data(path):\n",
        "    \"\"\"読み込むための関数\n",
        "\n",
        "    :param path: str, パス\n",
        "    :return text: list of list of str, 各文がトークナイズされた\n",
        "    \"\"\"\n",
        "    text = []\n",
        "    with open(path, \"r\") as f:\n",
        "        for line in f:\n",
        "            line = line.strip()\n",
        "            line = tokenize(line)\n",
        "            text.append(line)\n",
        "    return text"
      ],
      "execution_count": 172,
      "outputs": []
    },
    {
      "cell_type": "code",
      "metadata": {
        "id": "oLS9snsyN9l_"
      },
      "source": [
        "text = load_data('Data_consultant.txt')"
      ],
      "execution_count": 173,
      "outputs": []
    },
    {
      "cell_type": "code",
      "metadata": {
        "id": "vj8OHbs3N9mL",
        "colab": {
          "base_uri": "https://localhost:8080/"
        },
        "outputId": "7b7af63d-287d-4ce1-c796-0b1c1c27cdc7"
      },
      "source": [
        "# 分割された結果の例\n",
        "print(text)"
      ],
      "execution_count": 174,
      "outputs": [
        {
          "output_type": "stream",
          "name": "stdout",
          "text": [
            "[['デジタル', 'コンサルタント', '職', 'で', 'は', '常に', '最新', 'の', 'デジタル', 'テクノロジー', 'を', '学び', '活用', 'する', 'こと', 'が', 'できる', 'から', 'です', '私', 'は', '大学', 'で', '情報', '系', 'を', '主', 'に', '学ん', 'で', 'おり', 'それら', 'の', '魅力', 'や', '今後', 'の', '可能', '性', 'を', '感じ', 'まし', 'た', 'これから', '社会', '人', 'として', '働く', '上', 'でも', '常に', '新しい', '技術', 'を', '学び', '続ける', '姿勢', 'を', '大切', 'に', 'し', '自身', 'の', '成長', 'に', '繋げ', 'たい', 'と', '考え', 'て', 'い', 'ます', 'その', 'ため', '常に', '最新', 'の', 'デジタル', 'テクノロジー', 'を', '学び', '活用', 'する', 'こと', 'が', 'できる', 'デジタル', 'コンサルタント', '職', 'を', '志望', 'いたし', 'ます'], [], ['最先端', 'の', 'デジタル技術', 'に関する', '専門', '性', 'を', '磨く', 'とともに', 'それ', 'を', '生かし', 'た', '課題', '解決', 'を通して', '新た', 'な', '価値', 'を', '創造', 'し', 'たい', 'と', '考え', 'て', 'いる', 'から', 'だ', '私', 'は', 'ゼミ', 'で', 'の', '研究', 'を通して', 'IoT', 'や', 'AI', 'といった', '最先端', 'の', 'デジタル技術', 'が', '今後', 'の', '社会', 'において', '非常', 'に', '大きな', '可能', '性', 'を', '持っ', 'て', 'いる', 'こと', 'を', '知り', '関心', 'を', '持っ', 'た', 'その', 'ため', 'デジタル技術', 'に関する', '専門', '性', 'を', '磨き', '顧客', 'の', '課題', '解決', 'を通じて', '新しい', '社会', 'の', '変革', 'に', '寄与', 'し', 'たい', 'と', '考え', 'て', 'いる'], [], ['私', 'が', 'デジタル', 'コンサルタント', 'を', '第', '一', '志望', 'の', '職種', 'に', '選ん', 'だ', '理由', 'は', '私', 'が', '貴社', 'で', '実現', 'し', 'たい', 'こと', 'に対して', '最適', 'な', '職種', 'だ', 'と', '考え', 'た', 'から', 'です', '私', 'は', '企業', 'が', '激しく', '変化', 'する', '時代', 'に', '対応', 'し', 'て', 'いく', 'ため', 'に', 'デジタル', '化', 'は', '必須', 'で', 'ある', 'と', '考え', 'て', 'い', 'ます', 'その', 'ため', 'に', 'は', '最先端', 'の', 'デジタル', 'に関する', '幅広く', '高度', 'な', '知見', 'を', '常に', '学び', '続け', 'それら', 'を', '応用', 'し', 'て', 'いく', '必要', 'が', 'ある', 'と', '考え', 'ます', 'それ', 'と', '同時に', '普遍', '的', 'な', '方法', '論', 'を', '身', 'に', 'つけ', '顧客', 'に', '新た', 'な', '価値', 'を', '提供', 'し', 'たい', 'と', '考え', 'て', 'い', 'ます'], [], ['顧客', 'の', '「', 'テクノロジー', 'を', '使っ', 'て', '何', 'が', 'し', 'たい', 'か', '」', 'に', '寄り添える', 'コンサルタント', 'に', 'なり', 'たい', 'と', '考える', 'から', 'だ', '昨今', 'の', '社会', '情勢', 'により', 'テクノロジー', 'の', '活用', 'や', 'ＤＸ', '化', 'の', '推進', 'が', '叫ば', 'れ', 'て', 'いる', 'しかし', '私', 'は', 'あまりに', 'も', 'Ｄ', 'Ｘ', 'の', '推進', 'が', '叫ば', 'れ', 'テクノロジー', 'が', '手段', 'から', '目的', 'に', 'なっ', 'て', 'しまわ', 'ない', 'か', '危惧', 'し', 'て', 'いる', 'こうした', '中', 'で', '顧客', 'が', 'テクノロジー', 'を通して', '何', 'を', '実現', 'し', 'たい', 'の', 'か', '何', 'が', '必要', 'な', 'の', 'か', 'を', '寄り添っ', 'て', '考える', 'コンサルタント', 'に', 'なり', 'たい', 'と', '考え', 'て', 'いる'], [], ['自身', 'が', '研究', 'を通して', '無限', 'の', '可能', '性', 'を', '実感', 'し', 'た', 'IT', '技術', 'を', 'もちい', 'て', '課題', '解決', 'に', '取り組む', 'こと', 'が', 'できる', 'から', 'です', 'これから', 'の', '時代', 'において', 'どの', '業界', '業種', 'において', 'も', 'IT', 'を', '無視', 'する', 'こと', 'が', 'でき', 'なく', 'なっ', 'て', 'くる', 'と', '感じ', 'て', 'い', 'ます', 'IT', 'と', '経営', 'の', '視点', 'を', '兼ね備え', 'た', 'プロフェッショナル', 'と', 'なり', '様々', 'な', '企業', 'に対して', '新た', 'な', '価値', '創出', 'を', 'もたらし', 'たい', 'です'], [], ['プロジェクト', 'ごと', 'に', '幅広い', '分野', 'の', '知識', 'を', '身', 'に', 'つける', 'こと', 'が', 'でき', 'クライアント', 'の', '課題', '解決', 'によって', '成長', 'が', '感じ', 'られる', 'から', 'です', 'また', 'デジタル', 'コンサルタント', 'で', 'は', '大学', '・', '大学院', 'で', 'これ', 'まで', '培っ', 'た', 'データ', '収集', 'と', '分析', 'の', 'スキル', 'を', '⽣', 'か', 'し', 'て', '働く', 'こと', 'が', 'でき', 'ます', '自分', 'の', '強み', 'を', '生かし', 'て', 'あらゆる', '分野', 'の', '企業', 'や', '機関', 'が', '持つ', 'DX', 'へ', 'の', '不安', 'を', '解消', 'し', 'DX', 'の', 'プロセス', 'を', '包括', '的', 'に', '⽀援', 'し', '社会', 'を', '支え', 'られる', '存在', 'に', 'なり', 'たい', 'と', '思っ', 'て', 'い', 'ます'], [], ['デジタル', 'コンサルタント', 'を', '志望', 'する', '理由', 'は', '2', 'つ', 'ある', '1', 'つ', '目', 'は', '専門', '性', 'を', '身', 'に', 'つけ', 'たい', 'から', 'だ', '私', 'の', '就活', 'の', '軸', 'の', '1', 'つ', 'で', 'あり', '自分', 'の', '専門', '性', 'を', '持っ', 'た', 'うえ', 'で', 'お客様', 'へ', 'の', 'コンサルタント', 'や', 'プロジェクト', 'の', '遂行', 'を', 'し', 'たい', '2', 'つ', '目', 'は', '挑戦', 'できる', 'から', 'だ', '常に', '進化', 'する', 'テクノロジー', 'を', '扱う', 'こと', 'は', '常に', '新しい', 'こと', 'に', '挑戦', 'する', 'こと', 'だ', 'と', '伺い', '自身', 'の', '知的', '好奇', '心', 'が', '強い', 'こと', 'を', '活かし', 'ながら', '挑戦', 'できる', 'こと', 'に', '魅力', 'を', '感じる'], [], ['1', 'つ', '1', 'つ', 'の', 'クライアント', '企業', 'と', 'の', '関わり', 'が', '深く', 'かつ', '長期', '的', 'な', 'ので', 'その', '分', 'やりがい', 'も', '大きく', '自分', '自身', 'も', '愛着', 'と', '責任', 'を', '持っ', 'て', '仕事', 'を', 'でき', 'そう', 'だ', 'と', '思っ', 'た', 'から', 'です', 'また', '常に', '最先端', '技術', 'を', '駆使', 'し', '最新', 'の', '提案', 'を', 'し', '続ける', 'ところ', 'が', '常に', '好奇', '心', 'や', '探究', '心', 'を', '持っ', 'て', '仕事', 'に', '向き合え', 'そう', 'だ', 'と', '思い', '魅力', 'を', '感じ', 'た', 'から', 'です', '前例', 'に', '倣う', 'の', 'で', 'は', 'なく', '前例', 'を', '作っ', 'て', 'いく', 'という', '常に', '挑戦', 'し', '続ける', '環境', 'に', '身', 'を', 'おき', 'たい', 'と', '感じ', 'まし', 'た'], [], ['最新', 'の', 'テクノロジー', 'を', '用い', 'て', 'クライアント', 'に', '貢献', 'できる', 'から', 'です', '今後', 'さらに', 'デジタル', 'の', '多様', '化', 'が', '進む', 'こと', 'で', 'あらゆる', '技術', 'が', '手', 'に', '入り', 'ます', 'が', 'その', '膨大', 'さ', '故', '最適', 'に', '使いこなす', 'の', 'は', '難しい', 'と', '考え', 'られ', 'ます', 'この', '問題', 'を', 'デジタル', 'コンサルタント', 'として', 'クライアント', 'の', '経営', 'を', 'デジタル', 'という', '側面', 'から', 'サポート', 'し', '貴社', 'へ', '貢献', 'し', 'たい', 'です']]\n"
          ]
        }
      ]
    },
    {
      "cell_type": "markdown",
      "metadata": {
        "id": "-x5y3xcRN9la"
      },
      "source": [
        "### 1.3. データ読み込み"
      ]
    },
    {
      "cell_type": "markdown",
      "metadata": {
        "id": "pQyZCg9HN9le"
      },
      "source": [
        "データコンサルタント志望理由\n"
      ]
    },
    {
      "cell_type": "markdown",
      "metadata": {
        "id": "iK2e2pYWN9ma"
      },
      "source": [
        "### 1.4. 辞書構築\n",
        "コーパス（文書データ）に登場する単語にユニークなIDを振るために辞書を構築します。\n",
        "\n",
        "全ての単語を辞書に登録するとしばしば語彙数が膨大(1万〜100万)になりメモリが足りなくなることがあるので、\n",
        "\n",
        "単語の出現頻度で足切りして辞書のサイズを制限するということをします。\n",
        "\n",
        "NLPではほぼ必ず必要になる手順です。"
      ]
    },
    {
      "cell_type": "code",
      "metadata": {
        "id": "O0qBEvQzwTbZ"
      },
      "source": [
        "class Vocab(object):\n",
        "    def __init__(self, word2id={}):\n",
        "        \"\"\"\n",
        "        word2id: 単語(str)をインデックス(int)に変換する辞書\n",
        "        id2word: インデックス(int)を単語(str)に変換する辞書\n",
        "        \"\"\"\n",
        "        self.word2id = dict(word2id)\n",
        "        self.id2word = {v: k for k, v in self.word2id.items()}    \n",
        "        \n",
        "    def build_vocab(self, sentences, min_count=3):\n",
        "        # 各単語の出現回数の辞書を作成する\n",
        "        word_counter = {}\n",
        "        for sentence in sentences:\n",
        "            for word in sentence:\n",
        "                word_counter[word] = word_counter.get(word, 0) + 1\n",
        "\n",
        "        # min_count回以上出現する単語のみ語彙に加える\n",
        "        for word, count in sorted(word_counter.items(), key=lambda x: -x[1]):\n",
        "            if count < min_count:\n",
        "                break\n",
        "            _id = len(self.word2id)\n",
        "            self.word2id.setdefault(word, _id)\n",
        "            self.id2word[_id] = word \n",
        "\n"
      ],
      "execution_count": 175,
      "outputs": []
    },
    {
      "cell_type": "code",
      "source": [
        "#単語の数カウンと\n",
        "sen = []\n",
        "for row in range(len(text)):\n",
        "    for col in range(len(text[row])):\n",
        "        sen.append(text[row][col])\n",
        "\n",
        "\n",
        "print(sen)"
      ],
      "metadata": {
        "colab": {
          "base_uri": "https://localhost:8080/"
        },
        "id": "uI2pd9X3ZAwV",
        "outputId": "160f054d-ff1c-4a0c-a09e-b9a1f77861f4"
      },
      "execution_count": 176,
      "outputs": [
        {
          "output_type": "stream",
          "name": "stdout",
          "text": [
            "['デジタル', 'コンサルタント', '職', 'で', 'は', '常に', '最新', 'の', 'デジタル', 'テクノロジー', 'を', '学び', '活用', 'する', 'こと', 'が', 'できる', 'から', 'です', '私', 'は', '大学', 'で', '情報', '系', 'を', '主', 'に', '学ん', 'で', 'おり', 'それら', 'の', '魅力', 'や', '今後', 'の', '可能', '性', 'を', '感じ', 'まし', 'た', 'これから', '社会', '人', 'として', '働く', '上', 'でも', '常に', '新しい', '技術', 'を', '学び', '続ける', '姿勢', 'を', '大切', 'に', 'し', '自身', 'の', '成長', 'に', '繋げ', 'たい', 'と', '考え', 'て', 'い', 'ます', 'その', 'ため', '常に', '最新', 'の', 'デジタル', 'テクノロジー', 'を', '学び', '活用', 'する', 'こと', 'が', 'できる', 'デジタル', 'コンサルタント', '職', 'を', '志望', 'いたし', 'ます', '最先端', 'の', 'デジタル技術', 'に関する', '専門', '性', 'を', '磨く', 'とともに', 'それ', 'を', '生かし', 'た', '課題', '解決', 'を通して', '新た', 'な', '価値', 'を', '創造', 'し', 'たい', 'と', '考え', 'て', 'いる', 'から', 'だ', '私', 'は', 'ゼミ', 'で', 'の', '研究', 'を通して', 'IoT', 'や', 'AI', 'といった', '最先端', 'の', 'デジタル技術', 'が', '今後', 'の', '社会', 'において', '非常', 'に', '大きな', '可能', '性', 'を', '持っ', 'て', 'いる', 'こと', 'を', '知り', '関心', 'を', '持っ', 'た', 'その', 'ため', 'デジタル技術', 'に関する', '専門', '性', 'を', '磨き', '顧客', 'の', '課題', '解決', 'を通じて', '新しい', '社会', 'の', '変革', 'に', '寄与', 'し', 'たい', 'と', '考え', 'て', 'いる', '私', 'が', 'デジタル', 'コンサルタント', 'を', '第', '一', '志望', 'の', '職種', 'に', '選ん', 'だ', '理由', 'は', '私', 'が', '貴社', 'で', '実現', 'し', 'たい', 'こと', 'に対して', '最適', 'な', '職種', 'だ', 'と', '考え', 'た', 'から', 'です', '私', 'は', '企業', 'が', '激しく', '変化', 'する', '時代', 'に', '対応', 'し', 'て', 'いく', 'ため', 'に', 'デジタル', '化', 'は', '必須', 'で', 'ある', 'と', '考え', 'て', 'い', 'ます', 'その', 'ため', 'に', 'は', '最先端', 'の', 'デジタル', 'に関する', '幅広く', '高度', 'な', '知見', 'を', '常に', '学び', '続け', 'それら', 'を', '応用', 'し', 'て', 'いく', '必要', 'が', 'ある', 'と', '考え', 'ます', 'それ', 'と', '同時に', '普遍', '的', 'な', '方法', '論', 'を', '身', 'に', 'つけ', '顧客', 'に', '新た', 'な', '価値', 'を', '提供', 'し', 'たい', 'と', '考え', 'て', 'い', 'ます', '顧客', 'の', '「', 'テクノロジー', 'を', '使っ', 'て', '何', 'が', 'し', 'たい', 'か', '」', 'に', '寄り添える', 'コンサルタント', 'に', 'なり', 'たい', 'と', '考える', 'から', 'だ', '昨今', 'の', '社会', '情勢', 'により', 'テクノロジー', 'の', '活用', 'や', 'ＤＸ', '化', 'の', '推進', 'が', '叫ば', 'れ', 'て', 'いる', 'しかし', '私', 'は', 'あまりに', 'も', 'Ｄ', 'Ｘ', 'の', '推進', 'が', '叫ば', 'れ', 'テクノロジー', 'が', '手段', 'から', '目的', 'に', 'なっ', 'て', 'しまわ', 'ない', 'か', '危惧', 'し', 'て', 'いる', 'こうした', '中', 'で', '顧客', 'が', 'テクノロジー', 'を通して', '何', 'を', '実現', 'し', 'たい', 'の', 'か', '何', 'が', '必要', 'な', 'の', 'か', 'を', '寄り添っ', 'て', '考える', 'コンサルタント', 'に', 'なり', 'たい', 'と', '考え', 'て', 'いる', '自身', 'が', '研究', 'を通して', '無限', 'の', '可能', '性', 'を', '実感', 'し', 'た', 'IT', '技術', 'を', 'もちい', 'て', '課題', '解決', 'に', '取り組む', 'こと', 'が', 'できる', 'から', 'です', 'これから', 'の', '時代', 'において', 'どの', '業界', '業種', 'において', 'も', 'IT', 'を', '無視', 'する', 'こと', 'が', 'でき', 'なく', 'なっ', 'て', 'くる', 'と', '感じ', 'て', 'い', 'ます', 'IT', 'と', '経営', 'の', '視点', 'を', '兼ね備え', 'た', 'プロフェッショナル', 'と', 'なり', '様々', 'な', '企業', 'に対して', '新た', 'な', '価値', '創出', 'を', 'もたらし', 'たい', 'です', 'プロジェクト', 'ごと', 'に', '幅広い', '分野', 'の', '知識', 'を', '身', 'に', 'つける', 'こと', 'が', 'でき', 'クライアント', 'の', '課題', '解決', 'によって', '成長', 'が', '感じ', 'られる', 'から', 'です', 'また', 'デジタル', 'コンサルタント', 'で', 'は', '大学', '・', '大学院', 'で', 'これ', 'まで', '培っ', 'た', 'データ', '収集', 'と', '分析', 'の', 'スキル', 'を', '⽣', 'か', 'し', 'て', '働く', 'こと', 'が', 'でき', 'ます', '自分', 'の', '強み', 'を', '生かし', 'て', 'あらゆる', '分野', 'の', '企業', 'や', '機関', 'が', '持つ', 'DX', 'へ', 'の', '不安', 'を', '解消', 'し', 'DX', 'の', 'プロセス', 'を', '包括', '的', 'に', '⽀援', 'し', '社会', 'を', '支え', 'られる', '存在', 'に', 'なり', 'たい', 'と', '思っ', 'て', 'い', 'ます', 'デジタル', 'コンサルタント', 'を', '志望', 'する', '理由', 'は', '2', 'つ', 'ある', '1', 'つ', '目', 'は', '専門', '性', 'を', '身', 'に', 'つけ', 'たい', 'から', 'だ', '私', 'の', '就活', 'の', '軸', 'の', '1', 'つ', 'で', 'あり', '自分', 'の', '専門', '性', 'を', '持っ', 'た', 'うえ', 'で', 'お客様', 'へ', 'の', 'コンサルタント', 'や', 'プロジェクト', 'の', '遂行', 'を', 'し', 'たい', '2', 'つ', '目', 'は', '挑戦', 'できる', 'から', 'だ', '常に', '進化', 'する', 'テクノロジー', 'を', '扱う', 'こと', 'は', '常に', '新しい', 'こと', 'に', '挑戦', 'する', 'こと', 'だ', 'と', '伺い', '自身', 'の', '知的', '好奇', '心', 'が', '強い', 'こと', 'を', '活かし', 'ながら', '挑戦', 'できる', 'こと', 'に', '魅力', 'を', '感じる', '1', 'つ', '1', 'つ', 'の', 'クライアント', '企業', 'と', 'の', '関わり', 'が', '深く', 'かつ', '長期', '的', 'な', 'ので', 'その', '分', 'やりがい', 'も', '大きく', '自分', '自身', 'も', '愛着', 'と', '責任', 'を', '持っ', 'て', '仕事', 'を', 'でき', 'そう', 'だ', 'と', '思っ', 'た', 'から', 'です', 'また', '常に', '最先端', '技術', 'を', '駆使', 'し', '最新', 'の', '提案', 'を', 'し', '続ける', 'ところ', 'が', '常に', '好奇', '心', 'や', '探究', '心', 'を', '持っ', 'て', '仕事', 'に', '向き合え', 'そう', 'だ', 'と', '思い', '魅力', 'を', '感じ', 'た', 'から', 'です', '前例', 'に', '倣う', 'の', 'で', 'は', 'なく', '前例', 'を', '作っ', 'て', 'いく', 'という', '常に', '挑戦', 'し', '続ける', '環境', 'に', '身', 'を', 'おき', 'たい', 'と', '感じ', 'まし', 'た', '最新', 'の', 'テクノロジー', 'を', '用い', 'て', 'クライアント', 'に', '貢献', 'できる', 'から', 'です', '今後', 'さらに', 'デジタル', 'の', '多様', '化', 'が', '進む', 'こと', 'で', 'あらゆる', '技術', 'が', '手', 'に', '入り', 'ます', 'が', 'その', '膨大', 'さ', '故', '最適', 'に', '使いこなす', 'の', 'は', '難しい', 'と', '考え', 'られ', 'ます', 'この', '問題', 'を', 'デジタル', 'コンサルタント', 'として', 'クライアント', 'の', '経営', 'を', 'デジタル', 'という', '側面', 'から', 'サポート', 'し', '貴社', 'へ', '貢献', 'し', 'たい', 'です']\n"
          ]
        }
      ]
    },
    {
      "cell_type": "code",
      "source": [
        "import collections\n",
        "c = collections.Counter(sen)\n",
        "print(c.most_common(20))"
      ],
      "metadata": {
        "colab": {
          "base_uri": "https://localhost:8080/"
        },
        "id": "rjA2xObujOId",
        "outputId": "c46f269a-669a-448e-bd52-3a7829b5a78f"
      },
      "execution_count": 177,
      "outputs": [
        {
          "output_type": "stream",
          "name": "stdout",
          "text": [
            "[('を', 51), ('の', 45), ('に', 29), ('が', 26), ('て', 24), ('と', 22), ('し', 20), ('は', 15), ('たい', 15), ('こと', 14), ('で', 13), ('から', 13), ('デジタル', 12), ('た', 11), ('ます', 10), ('コンサルタント', 9), ('常に', 9), ('です', 9), ('考え', 9), ('な', 9)]\n"
          ]
        }
      ]
    },
    {
      "cell_type": "code",
      "source": [
        "import seaborn as sns\n",
        "import matplotlib.pyplot as plt\n",
        " \n",
        "sns.set(context=\"notebook\")\n",
        "fig = plt.subplots(figsize=(8, 8))\n",
        " \n",
        "sns.countplot(y=sen,order=[i[0] for i in c.most_common(10)])"
      ],
      "metadata": {
        "colab": {
          "base_uri": "https://localhost:8080/",
          "height": 1000
        },
        "id": "UWwmM5Q5UpHi",
        "outputId": "b7a70477-bac7-44ec-e886-40a8cf062dd8"
      },
      "execution_count": 184,
      "outputs": [
        {
          "output_type": "execute_result",
          "data": {
            "text/plain": [
              "<matplotlib.axes._subplots.AxesSubplot at 0x7f1fc34f95d0>"
            ]
          },
          "metadata": {},
          "execution_count": 184
        },
        {
          "output_type": "stream",
          "name": "stderr",
          "text": [
            "/usr/local/lib/python3.7/dist-packages/matplotlib/backends/backend_agg.py:214: RuntimeWarning: Glyph 12434 missing from current font.\n",
            "  font.set_text(s, 0.0, flags=flags)\n",
            "/usr/local/lib/python3.7/dist-packages/matplotlib/backends/backend_agg.py:214: RuntimeWarning: Glyph 12398 missing from current font.\n",
            "  font.set_text(s, 0.0, flags=flags)\n",
            "/usr/local/lib/python3.7/dist-packages/matplotlib/backends/backend_agg.py:214: RuntimeWarning: Glyph 12395 missing from current font.\n",
            "  font.set_text(s, 0.0, flags=flags)\n",
            "/usr/local/lib/python3.7/dist-packages/matplotlib/backends/backend_agg.py:214: RuntimeWarning: Glyph 12364 missing from current font.\n",
            "  font.set_text(s, 0.0, flags=flags)\n",
            "/usr/local/lib/python3.7/dist-packages/matplotlib/backends/backend_agg.py:214: RuntimeWarning: Glyph 12390 missing from current font.\n",
            "  font.set_text(s, 0.0, flags=flags)\n",
            "/usr/local/lib/python3.7/dist-packages/matplotlib/backends/backend_agg.py:214: RuntimeWarning: Glyph 12392 missing from current font.\n",
            "  font.set_text(s, 0.0, flags=flags)\n",
            "/usr/local/lib/python3.7/dist-packages/matplotlib/backends/backend_agg.py:214: RuntimeWarning: Glyph 12375 missing from current font.\n",
            "  font.set_text(s, 0.0, flags=flags)\n",
            "/usr/local/lib/python3.7/dist-packages/matplotlib/backends/backend_agg.py:214: RuntimeWarning: Glyph 12399 missing from current font.\n",
            "  font.set_text(s, 0.0, flags=flags)\n",
            "/usr/local/lib/python3.7/dist-packages/matplotlib/backends/backend_agg.py:214: RuntimeWarning: Glyph 12383 missing from current font.\n",
            "  font.set_text(s, 0.0, flags=flags)\n",
            "/usr/local/lib/python3.7/dist-packages/matplotlib/backends/backend_agg.py:214: RuntimeWarning: Glyph 12356 missing from current font.\n",
            "  font.set_text(s, 0.0, flags=flags)\n",
            "/usr/local/lib/python3.7/dist-packages/matplotlib/backends/backend_agg.py:214: RuntimeWarning: Glyph 12371 missing from current font.\n",
            "  font.set_text(s, 0.0, flags=flags)\n",
            "/usr/local/lib/python3.7/dist-packages/matplotlib/backends/backend_agg.py:183: RuntimeWarning: Glyph 12434 missing from current font.\n",
            "  font.set_text(s, 0, flags=flags)\n",
            "/usr/local/lib/python3.7/dist-packages/matplotlib/backends/backend_agg.py:183: RuntimeWarning: Glyph 12398 missing from current font.\n",
            "  font.set_text(s, 0, flags=flags)\n",
            "/usr/local/lib/python3.7/dist-packages/matplotlib/backends/backend_agg.py:183: RuntimeWarning: Glyph 12395 missing from current font.\n",
            "  font.set_text(s, 0, flags=flags)\n",
            "/usr/local/lib/python3.7/dist-packages/matplotlib/backends/backend_agg.py:183: RuntimeWarning: Glyph 12364 missing from current font.\n",
            "  font.set_text(s, 0, flags=flags)\n",
            "/usr/local/lib/python3.7/dist-packages/matplotlib/backends/backend_agg.py:183: RuntimeWarning: Glyph 12390 missing from current font.\n",
            "  font.set_text(s, 0, flags=flags)\n",
            "/usr/local/lib/python3.7/dist-packages/matplotlib/backends/backend_agg.py:183: RuntimeWarning: Glyph 12392 missing from current font.\n",
            "  font.set_text(s, 0, flags=flags)\n",
            "/usr/local/lib/python3.7/dist-packages/matplotlib/backends/backend_agg.py:183: RuntimeWarning: Glyph 12375 missing from current font.\n",
            "  font.set_text(s, 0, flags=flags)\n",
            "/usr/local/lib/python3.7/dist-packages/matplotlib/backends/backend_agg.py:183: RuntimeWarning: Glyph 12399 missing from current font.\n",
            "  font.set_text(s, 0, flags=flags)\n",
            "/usr/local/lib/python3.7/dist-packages/matplotlib/backends/backend_agg.py:183: RuntimeWarning: Glyph 12383 missing from current font.\n",
            "  font.set_text(s, 0, flags=flags)\n",
            "/usr/local/lib/python3.7/dist-packages/matplotlib/backends/backend_agg.py:183: RuntimeWarning: Glyph 12356 missing from current font.\n",
            "  font.set_text(s, 0, flags=flags)\n",
            "/usr/local/lib/python3.7/dist-packages/matplotlib/backends/backend_agg.py:183: RuntimeWarning: Glyph 12371 missing from current font.\n",
            "  font.set_text(s, 0, flags=flags)\n"
          ]
        },
        {
          "output_type": "display_data",
          "data": {
            "text/plain": [
              "<Figure size 576x576 with 1 Axes>"
            ],
            "image/png": "[encoded data removed]"
          },
          "metadata": {}
        }
      ]
    },
    {
      "cell_type": "markdown",
      "source": [
        "## デジタルコンサルタント"
      ],
      "metadata": {
        "id": "WwV2ql5BNrlf"
      }
    },
    {
      "cell_type": "markdown",
      "source": [
        "就職活動の軸"
      ],
      "metadata": {
        "id": "mAiA4BK_Nfrl"
      }
    }
  ]
}